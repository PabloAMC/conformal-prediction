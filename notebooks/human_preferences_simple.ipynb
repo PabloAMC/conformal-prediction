{
 "cells": [
  {
   "cell_type": "code",
   "execution_count": 1,
   "metadata": {},
   "outputs": [],
   "source": [
    "from typing import List, Tuple\n",
    "import random\n",
    "from math import cos, tanh, pi"
   ]
  },
  {
   "attachments": {},
   "cell_type": "markdown",
   "metadata": {},
   "source": [
    "# Conformal prediction from human preferences"
   ]
  },
  {
   "attachments": {},
   "cell_type": "markdown",
   "metadata": {},
   "source": [
    "In this notebook I aim to explore how we can use conformal prediction to make model-free risk-controlled prediction from human preferences. We will start from a simple case study."
   ]
  },
  {
   "attachments": {},
   "cell_type": "markdown",
   "metadata": {},
   "source": [
    "# Simple case"
   ]
  },
  {
   "attachments": {},
   "cell_type": "markdown",
   "metadata": {},
   "source": [
    "For our simple case, we will consider input data of the form $x_1,\\ldots,x_d$ and will define a utility function $U(x_1,\\ldots,x_d) = u$ as a low degree polynomial function. For example a linear function. To make it simpler, we will restrict all the coefficients to be in the range $[-1/d,1/d]$, and the input features to be in the range $[-1,1]$, so that the output is between $-1$ and $1$."
   ]
  },
  {
   "cell_type": "code",
   "execution_count": 2,
   "metadata": {},
   "outputs": [],
   "source": [
    "def clip(x, low, high):\n",
    "    return min(max(x, low), high)\n",
    "def U(x, coefficients):\n",
    "    #coefficients /= np.linalg.norm(coefficients, ord = 1)\n",
    "    return cos(sum(coefficients * x) % 2 - 1 + random.uniform(-0.3, 0.3))"
   ]
  },
  {
   "attachments": {},
   "cell_type": "markdown",
   "metadata": {},
   "source": [
    "Next we need a model to predict the utility function, or in other words, fit a model to replicate the behavior of $U(a)-U(b)$. The output of the model will be a softmax distribution over bins between $-1$ and $1$.\n",
    "We will follow Pytorch Lightning's [LightningModule](https://pytorch-lightning.readthedocs.io/en/stable/common/lightning_module.html) to define our model."
   ]
  },
  {
   "cell_type": "code",
   "execution_count": 3,
   "metadata": {},
   "outputs": [],
   "source": [
    "import pytorch_lightning as pl\n",
    "import torch.nn as nn\n",
    "import torch.nn.functional as F\n",
    "import torch\n",
    "\n",
    "class LitModel(pl.LightningModule):\n",
    "\n",
    "    \"\"\" PyTorch Lightning model.\n",
    "    Outputs the probability that model U(a,b) is in bin i.\n",
    "    \n",
    "    Args:\n",
    "        input_features (int): Number of input features of each of the two inputs.\n",
    "        output_predictions (int): Number of output prediction bins.\n",
    "        hidden_dim (int): Number of hidden units in the hidden layer.\n",
    "        layers (int): Number of hidden layers.\n",
    "    \"\"\"\n",
    "\n",
    "    def __init__(self, input_features, output_predictions, hidden_dim=8, layers = 1):\n",
    "        self.input_features = input_features\n",
    "        self.output_predictions = output_predictions\n",
    "        self.hidden_dim = hidden_dim\n",
    "        self.layers = layers\n",
    "        super().__init__()\n",
    "\n",
    "        self.initial = nn.Sequential(\n",
    "            nn.Linear(2*self.input_features, self.hidden_dim),\n",
    "            nn.ReLU()\n",
    "        )\n",
    "\n",
    "        self.backbone_block = nn.Sequential(\n",
    "            nn.Linear(self.hidden_dim, self.hidden_dim),\n",
    "            nn.ReLU()\n",
    "        )\n",
    "\n",
    "        self.head = nn.Sequential(\n",
    "            nn.Linear(self.hidden_dim, self.output_predictions),\n",
    "            nn.Sigmoid()\n",
    "        )\n",
    "\n",
    "    def forward(self, x):\n",
    "        x = self.initial(x)\n",
    "        for i in range(self.layers):\n",
    "            x = self.backbone_block(x)\n",
    "        x = self.head(x)\n",
    "        return x/(x.sum(dim=1).unsqueeze(1))\n",
    "\n",
    "    def training_step(self, batch, batch_idx):\n",
    "        x, y = batch\n",
    "        y_hat = self(x)\n",
    "        loss = F.l1_loss(y_hat, y)\n",
    "        return loss\n",
    "\n",
    "    def configure_optimizers(self):\n",
    "        return torch.optim.Adam(self.parameters(), lr=0.02)"
   ]
  },
  {
   "cell_type": "code",
   "execution_count": 4,
   "metadata": {},
   "outputs": [],
   "source": [
    "import torch\n",
    "import numpy as np\n",
    "from torch.utils.data import TensorDataset, DataLoader\n",
    "\n",
    "def create_dataloader(x_list: list, y_list: list):\n",
    "    tensor_x = torch.Tensor(np.asarray(x_list)) # transform to torch tensor\n",
    "    tensor_y = torch.Tensor(np.asarray(y_list))\n",
    "    my_dataset = TensorDataset(tensor_x,tensor_y) # create your datset\n",
    "    return DataLoader(my_dataset, num_workers = 4) # create your dataloader\n",
    "\n",
    "def create_predict_dataloader(x_list: list):\n",
    "    tensor_x = torch.Tensor(np.asarray(x_list)) # transform to torch tensor\n",
    "    return DataLoader(tensor_x, num_workers = 4) # create your dataloader"
   ]
  },
  {
   "attachments": {},
   "cell_type": "markdown",
   "metadata": {},
   "source": [
    "The examples will be generated using the following function, which assigns them to bins."
   ]
  },
  {
   "cell_type": "code",
   "execution_count": 5,
   "metadata": {},
   "outputs": [
    {
     "data": {
      "text/plain": [
       "[array([ 0.84067288, -0.32475976, -0.13882388,  0.51749858, -0.01969603,\n",
       "         0.29098055]),\n",
       " array([-0.93276285,  0.25244101,  0.02546276, -0.51575125,  0.20607225,\n",
       "        -0.4723319 ]),\n",
       " array([-0.02033019,  0.34439425,  0.02285187,  0.91740003,  0.1009611 ,\n",
       "         0.36296109]),\n",
       " array([-0.08996239, -0.53661993,  0.47932938, -0.48975252, -0.04668654,\n",
       "        -0.99545865]),\n",
       " array([ 0.28480336, -0.28763758,  0.75933569, -0.33976112, -0.24806751,\n",
       "         0.26215962]),\n",
       " array([ 0.1573095 ,  0.36363585, -0.34761746,  0.19407652, -0.01781701,\n",
       "        -0.27275464]),\n",
       " array([ 0.71923183,  0.48632117, -0.34382168, -0.81455641, -0.22379036,\n",
       "        -0.33653165]),\n",
       " array([-0.16650034,  0.49525262,  0.49470018, -1.13733938,  0.31122036,\n",
       "         0.3794651 ]),\n",
       " array([-0.99020551,  0.19733143,  0.93060258,  0.15912254,  0.50473908,\n",
       "         0.47848913]),\n",
       " array([ 0.3637412 ,  0.47423591, -0.75495658,  0.01284221, -0.22261968,\n",
       "        -0.50860986])]"
      ]
     },
     "execution_count": 5,
     "metadata": {},
     "output_type": "execute_result"
    }
   ],
   "source": [
    "# Generate random coefficients\n",
    "#coefficients = np.random.uniform(-1, 1, num_features)\n",
    "coefficients = np.array([0.5, 0.5, .2])\n",
    "\n",
    "def generate_examples(num_examples, num_features, num_bins, coefficients = coefficients):\n",
    "    \"\"\"Generates examples of human preferences\n",
    "    If we decide to use a binary loss function, it is sufficient with num_bins = 2.\n",
    "    \"\"\"\n",
    "\n",
    "    # Generate random inputs\n",
    "    x0 = np.random.normal(loc = 0.15, scale = 0.45, size = (num_examples, num_features))\n",
    "    x1 = np.random.normal(loc = -0.15, scale = 0.45, size = (num_examples, num_features))\n",
    "\n",
    "    # Compute the utility of each input\n",
    "    u = np.array([U(x0[i], coefficients) - U(x1[i], coefficients) for i in range(num_examples)])\n",
    "\n",
    "    # Compute the bin of each input\n",
    "    bins = np.array([np.digitize(u[i], np.linspace(-1, 1, num_bins-1)) for i in range(num_examples)])\n",
    "\n",
    "    # Create the input list\n",
    "    x_list = []\n",
    "    for i in range(num_examples):\n",
    "        x_list.append(np.concatenate((x0[i], x1[i])))\n",
    "\n",
    "    # Create the output list\n",
    "    y_list = []\n",
    "    for i in range(num_examples):\n",
    "        y = np.zeros(num_bins)\n",
    "        y[bins[i]] = 1\n",
    "        y_list.append(y)\n",
    "\n",
    "    return x_list, y_list\n",
    "\n",
    "x, y = generate_examples(10, 3, 20, coefficients = np.array([0.5, 0.5, .2]))\n",
    "x[:10]"
   ]
  },
  {
   "attachments": {},
   "cell_type": "markdown",
   "metadata": {},
   "source": [
    "We can then train a simple model"
   ]
  },
  {
   "cell_type": "code",
   "execution_count": 6,
   "metadata": {},
   "outputs": [
    {
     "name": "stderr",
     "output_type": "stream",
     "text": [
      "GPU available: False, used: False\n",
      "TPU available: False, using: 0 TPU cores\n",
      "IPU available: False, using: 0 IPUs\n",
      "HPU available: False, using: 0 HPUs\n",
      "\n",
      "  | Name           | Type       | Params\n",
      "----------------------------------------------\n",
      "0 | initial        | Sequential | 56    \n",
      "1 | backbone_block | Sequential | 72    \n",
      "2 | head           | Sequential | 180   \n",
      "----------------------------------------------\n",
      "308       Trainable params\n",
      "0         Non-trainable params\n",
      "308       Total params\n",
      "0.001     Total estimated model params size (MB)\n"
     ]
    },
    {
     "data": {
      "application/vnd.jupyter.widget-view+json": {
       "model_id": "20805105b3b14349a943723a47ee7288",
       "version_major": 2,
       "version_minor": 0
      },
      "text/plain": [
       "Training: 0it [00:00, ?it/s]"
      ]
     },
     "metadata": {},
     "output_type": "display_data"
    },
    {
     "name": "stderr",
     "output_type": "stream",
     "text": [
      "`Trainer.fit` stopped: `max_epochs=5` reached.\n"
     ]
    }
   ],
   "source": [
    "num_examples = 1000\n",
    "num_features = 3\n",
    "num_bins = 20\n",
    "x_list, y_list = generate_examples(num_examples = num_examples, num_features = num_features, num_bins = num_bins)\n",
    "train_loader = create_dataloader(x_list, y_list)\n",
    "predict_loader = create_predict_dataloader(x_list)\n",
    "trainer = pl.Trainer(max_epochs=5)\n",
    "model = LitModel(input_features=num_features, output_predictions=num_bins)\n",
    "\n",
    "trainer.fit(model, train_dataloaders=train_loader)"
   ]
  },
  {
   "attachments": {},
   "cell_type": "markdown",
   "metadata": {},
   "source": [
    "# Conformal prediction"
   ]
  },
  {
   "attachments": {},
   "cell_type": "markdown",
   "metadata": {},
   "source": [
    "Remember that we defined the loss to be\n",
    "$$\n",
    "     \\mathcal{L}(U, a_i,b_i,y_i) =  y_i(U(a_i)-U(b_i)) + (1-y_i)(U(b_i)-U(a_i)),\n",
    "$$\n",
    "for $y_i \\in \\{0,1\\}$ the true preference, and $U$ the learned utility function."
   ]
  },
  {
   "attachments": {},
   "cell_type": "markdown",
   "metadata": {},
   "source": [
    "In the conformal prediction procedure we now follow the following steps:\n",
    "1. We have to define the set $\\mathcal{C}_\\alpha$:\n",
    "$$\n",
    "\\mathcal{C}_\\alpha(a_i,b_i) = \\{u_i = U(a_i)-U(b_i) \\in \\mathbb{R}: \\rho( u_i )\\geq  1-\\alpha \\}\n",
    "$$\n",
    "where $\\rho$ is the cumulative distribution function of the model's output distribution."
   ]
  },
  {
   "cell_type": "code",
   "execution_count": 7,
   "metadata": {},
   "outputs": [],
   "source": [
    "def C(alpha: float, x_list: torch.Tensor):\n",
    "    loader = DataLoader(torch.Tensor(x_list))\n",
    "    predictions = trainer.predict(model,loader)\n",
    "    p = []\n",
    "    for prediction in predictions:\n",
    "        prediction = torch.flatten(prediction)\n",
    "        p.append(torch.where(prediction > alpha, torch.ones_like(prediction), torch.zeros_like(prediction)))\n",
    "    return torch.stack(p)"
   ]
  },
  {
   "cell_type": "code",
   "execution_count": 8,
   "metadata": {},
   "outputs": [
    {
     "name": "stderr",
     "output_type": "stream",
     "text": [
      "/Users/pablo_1/opt/miniconda3/envs/conformal/lib/python3.10/site-packages/pytorch_lightning/trainer/connectors/data_connector.py:224: PossibleUserWarning: The dataloader, predict_dataloader 0, does not have many workers which may be a bottleneck. Consider increasing the value of the `num_workers` argument` (try 4 which is the number of cpus on this machine) in the `DataLoader` init to improve performance.\n",
      "  rank_zero_warn(\n"
     ]
    },
    {
     "data": {
      "application/vnd.jupyter.widget-view+json": {
       "model_id": "5ae29a8788af47258a94b2cd29b1f397",
       "version_major": 2,
       "version_minor": 0
      },
      "text/plain": [
       "Predicting: 1000it [00:00, ?it/s]"
      ]
     },
     "metadata": {},
     "output_type": "display_data"
    },
    {
     "data": {
      "text/plain": [
       "[tensor([[2.8451e-23, 2.4733e-22, 7.4837e-24, 2.6988e-23, 7.3657e-22, 4.2140e-19,\n",
       "          9.8413e-17, 5.3106e-11, 5.0000e-01, 5.0000e-01, 6.5462e-13, 1.1370e-11,\n",
       "          1.8816e-17, 1.7446e-17, 3.5350e-23, 4.3293e-23, 1.0126e-22, 3.2488e-22,\n",
       "          2.6642e-22, 9.0426e-24]]),\n",
       " tensor([[1.4185e-07, 3.2132e-07, 1.1644e-07, 1.9783e-07, 2.6749e-07, 7.8826e-06,\n",
       "          1.1076e-05, 8.6882e-04, 4.9251e-01, 4.9306e-01, 1.7450e-03, 1.1713e-02,\n",
       "          6.4343e-05, 2.0709e-05, 1.9226e-07, 9.6952e-08, 2.0004e-07, 3.9626e-07,\n",
       "          1.7994e-07, 1.2045e-07]]),\n",
       " tensor([[1.8437e-16, 3.5246e-15, 1.1204e-16, 6.6664e-16, 3.4538e-15, 1.3431e-12,\n",
       "          1.0912e-11, 4.7068e-07, 5.0000e-01, 5.0000e-01, 8.9636e-07, 6.2206e-09,\n",
       "          2.2556e-11, 1.8833e-11, 2.8003e-16, 1.3551e-16, 4.3965e-16, 5.4832e-15,\n",
       "          9.5530e-16, 7.9100e-17]]),\n",
       " tensor([[0.0000e+00, 0.0000e+00, 0.0000e+00, 0.0000e+00, 0.0000e+00, 0.0000e+00,\n",
       "          0.0000e+00, 1.0634e-24, 3.3333e-01, 3.3333e-01, 3.7898e-19, 3.3333e-01,\n",
       "          1.9795e-28, 1.2172e-39, 0.0000e+00, 0.0000e+00, 0.0000e+00, 0.0000e+00,\n",
       "          0.0000e+00, 0.0000e+00]]),\n",
       " tensor([[0.0000e+00, 0.0000e+00, 0.0000e+00, 0.0000e+00, 0.0000e+00, 9.9983e-39,\n",
       "          3.8793e-38, 1.9214e-22, 3.3333e-01, 3.3333e-01, 1.9666e-17, 3.3333e-01,\n",
       "          8.5429e-26, 6.5221e-36, 0.0000e+00, 0.0000e+00, 0.0000e+00, 0.0000e+00,\n",
       "          0.0000e+00, 0.0000e+00]]),\n",
       " tensor([[9.5250e-17, 1.6063e-15, 6.0868e-17, 3.1149e-16, 1.0260e-15, 1.2982e-12,\n",
       "          3.8933e-12, 1.9408e-07, 4.5125e-01, 4.5125e-01, 1.6104e-06, 9.7492e-02,\n",
       "          5.3655e-10, 1.2844e-11, 2.0081e-16, 5.3627e-17, 3.3853e-16, 2.0001e-15,\n",
       "          1.7304e-16, 1.0801e-16]]),\n",
       " tensor([[4.6728e-16, 8.1273e-15, 2.8765e-16, 1.6207e-15, 7.9488e-15, 2.7106e-12,\n",
       "          2.0608e-11, 6.6769e-07, 5.0000e-01, 5.0000e-01, 1.2510e-06, 9.6340e-09,\n",
       "          4.2304e-11, 3.5403e-11, 7.0315e-16, 3.4350e-16, 1.0827e-15, 1.2547e-14,\n",
       "          2.3030e-15, 2.0420e-16]]),\n",
       " tensor([[9.1992e-32, 3.1029e-29, 4.2676e-32, 9.9771e-31, 6.7303e-30, 2.0584e-23,\n",
       "          4.4323e-23, 7.8143e-14, 3.3333e-01, 3.3333e-01, 5.9444e-11, 3.3333e-01,\n",
       "          6.0357e-16, 9.7792e-22, 6.4835e-31, 2.5240e-32, 2.6256e-30, 2.7837e-29,\n",
       "          5.8812e-32, 7.3834e-31]]),\n",
       " tensor([[6.6662e-27, 8.3342e-25, 3.4491e-27, 4.8401e-26, 2.4873e-25, 6.5135e-20,\n",
       "          1.4411e-19, 8.2935e-12, 3.3333e-01, 3.3333e-01, 1.6174e-09, 3.3333e-01,\n",
       "          6.3713e-14, 1.7980e-18, 3.2488e-26, 2.2653e-27, 9.9285e-26, 8.1750e-25,\n",
       "          5.5093e-27, 3.0495e-26]]),\n",
       " tensor([[7.9050e-34, 4.0432e-31, 3.5073e-34, 1.0129e-32, 7.5572e-32, 6.7953e-25,\n",
       "          1.4012e-24, 1.0572e-14, 3.3333e-01, 3.3333e-01, 1.5000e-11, 3.3333e-01,\n",
       "          9.3142e-17, 4.0180e-23, 6.5818e-33, 1.9644e-34, 3.0097e-32, 3.4679e-31,\n",
       "          4.3841e-34, 8.3036e-33]])]"
      ]
     },
     "execution_count": 8,
     "metadata": {},
     "output_type": "execute_result"
    }
   ],
   "source": [
    "loader = DataLoader(torch.Tensor(np.asarray(x_list)))\n",
    "predictions = trainer.predict(model,loader)\n",
    "predictions[:10]"
   ]
  },
  {
   "cell_type": "code",
   "execution_count": 9,
   "metadata": {},
   "outputs": [
    {
     "data": {
      "text/plain": [
       "[array([0., 0., 0., 0., 0., 0., 0., 0., 1., 0., 0., 0., 0., 0., 0., 0., 0.,\n",
       "        0., 0., 0.]),\n",
       " array([0., 0., 0., 0., 0., 0., 0., 0., 1., 0., 0., 0., 0., 0., 0., 0., 0.,\n",
       "        0., 0., 0.]),\n",
       " array([0., 0., 0., 0., 0., 0., 0., 0., 0., 1., 0., 0., 0., 0., 0., 0., 0.,\n",
       "        0., 0., 0.]),\n",
       " array([0., 0., 0., 0., 0., 0., 0., 0., 0., 0., 0., 0., 0., 1., 0., 0., 0.,\n",
       "        0., 0., 0.]),\n",
       " array([0., 0., 0., 0., 0., 0., 0., 1., 0., 0., 0., 0., 0., 0., 0., 0., 0.,\n",
       "        0., 0., 0.]),\n",
       " array([0., 0., 0., 0., 0., 0., 0., 0., 0., 0., 0., 0., 0., 1., 0., 0., 0.,\n",
       "        0., 0., 0.]),\n",
       " array([0., 0., 0., 0., 0., 0., 0., 0., 0., 0., 0., 1., 0., 0., 0., 0., 0.,\n",
       "        0., 0., 0.]),\n",
       " array([0., 0., 0., 0., 0., 0., 0., 0., 0., 1., 0., 0., 0., 0., 0., 0., 0.,\n",
       "        0., 0., 0.]),\n",
       " array([0., 0., 0., 0., 0., 0., 0., 0., 0., 0., 0., 0., 0., 1., 0., 0., 0.,\n",
       "        0., 0., 0.]),\n",
       " array([0., 0., 0., 0., 0., 0., 0., 0., 0., 0., 1., 0., 0., 0., 0., 0., 0.,\n",
       "        0., 0., 0.])]"
      ]
     },
     "execution_count": 9,
     "metadata": {},
     "output_type": "execute_result"
    }
   ],
   "source": [
    "y_list[:10]"
   ]
  },
  {
   "cell_type": "code",
   "execution_count": 10,
   "metadata": {},
   "outputs": [
    {
     "name": "stderr",
     "output_type": "stream",
     "text": [
      "/var/folders/yw/g52bzl910kz1t3sdk0h_ydn80000gp/T/ipykernel_2771/3378937673.py:2: UserWarning: Creating a tensor from a list of numpy.ndarrays is extremely slow. Please consider converting the list to a single numpy.ndarray with numpy.array() before converting to a tensor. (Triggered internally at /Users/runner/work/pytorch/pytorch/pytorch/torch/csrc/utils/tensor_new.cpp:233.)\n",
      "  loader = DataLoader(torch.Tensor(x_list))\n"
     ]
    },
    {
     "data": {
      "application/vnd.jupyter.widget-view+json": {
       "model_id": "f144d66a92ec40e5a565f72398c16699",
       "version_major": 2,
       "version_minor": 0
      },
      "text/plain": [
       "Predicting: 1000it [00:00, ?it/s]"
      ]
     },
     "metadata": {},
     "output_type": "display_data"
    },
    {
     "data": {
      "text/plain": [
       "tensor([[0., 0., 0.,  ..., 0., 0., 0.],\n",
       "        [0., 0., 0.,  ..., 0., 0., 0.],\n",
       "        [0., 0., 0.,  ..., 0., 0., 0.],\n",
       "        ...,\n",
       "        [0., 0., 0.,  ..., 0., 0., 0.],\n",
       "        [0., 0., 0.,  ..., 0., 0., 0.],\n",
       "        [0., 0., 0.,  ..., 0., 0., 0.]])"
      ]
     },
     "execution_count": 10,
     "metadata": {},
     "output_type": "execute_result"
    }
   ],
   "source": [
    "a = C(0.3, x_list)\n",
    "a"
   ]
  },
  {
   "cell_type": "markdown",
   "metadata": {},
   "source": []
  },
  {
   "cell_type": "code",
   "execution_count": 11,
   "metadata": {},
   "outputs": [
    {
     "data": {
      "text/plain": [
       "tensor([[0., 0., 0., 0., 0., 0., 0., 0., 1., 1., 0., 0., 0., 0., 0., 0., 0., 0.,\n",
       "         0., 0.],\n",
       "        [0., 0., 0., 0., 0., 0., 0., 0., 1., 1., 0., 0., 0., 0., 0., 0., 0., 0.,\n",
       "         0., 0.],\n",
       "        [0., 0., 0., 0., 0., 0., 0., 0., 1., 1., 0., 0., 0., 0., 0., 0., 0., 0.,\n",
       "         0., 0.],\n",
       "        [0., 0., 0., 0., 0., 0., 0., 0., 1., 1., 0., 1., 0., 0., 0., 0., 0., 0.,\n",
       "         0., 0.],\n",
       "        [0., 0., 0., 0., 0., 0., 0., 0., 1., 1., 0., 1., 0., 0., 0., 0., 0., 0.,\n",
       "         0., 0.],\n",
       "        [0., 0., 0., 0., 0., 0., 0., 0., 1., 1., 0., 0., 0., 0., 0., 0., 0., 0.,\n",
       "         0., 0.],\n",
       "        [0., 0., 0., 0., 0., 0., 0., 0., 1., 1., 0., 0., 0., 0., 0., 0., 0., 0.,\n",
       "         0., 0.],\n",
       "        [0., 0., 0., 0., 0., 0., 0., 0., 1., 1., 0., 1., 0., 0., 0., 0., 0., 0.,\n",
       "         0., 0.],\n",
       "        [0., 0., 0., 0., 0., 0., 0., 0., 1., 1., 0., 1., 0., 0., 0., 0., 0., 0.,\n",
       "         0., 0.],\n",
       "        [0., 0., 0., 0., 0., 0., 0., 0., 1., 1., 0., 1., 0., 0., 0., 0., 0., 0.,\n",
       "         0., 0.]])"
      ]
     },
     "execution_count": 11,
     "metadata": {},
     "output_type": "execute_result"
    }
   ],
   "source": [
    "a[0:10]"
   ]
  },
  {
   "attachments": {},
   "cell_type": "markdown",
   "metadata": {},
   "source": [
    "## Learn the test procedure"
   ]
  },
  {
   "attachments": {},
   "cell_type": "markdown",
   "metadata": {},
   "source": [
    "We want to control teh risk in the test procedure. We define the risk at a given value of $\\alpha$ as\n",
    "$$\\hat{R}(\\alpha) = \\frac{1}{n}\\sum_{i=1}^n \\mathcal{L}(\\mathcal{C}_\\alpha(a_i,b_i), y_i)$$\n",
    "where $\\mathcal{L}$ is the loss function and $\\mathcal{C}_\\alpha$ the conformal prediction set."
   ]
  },
  {
   "cell_type": "code",
   "execution_count": null,
   "metadata": {},
   "outputs": [],
   "source": []
  },
  {
   "attachments": {},
   "cell_type": "markdown",
   "metadata": {},
   "source": [
    "With the risk we can now define the p-value\n",
    "$$p_\\alpha^{\\text{Hoeffding}} = e^{-2n(\\lambda - \\hat{R}(\\alpha))^2}$$\n",
    "where $n$ the train size."
   ]
  },
  {
   "cell_type": "code",
   "execution_count": null,
   "metadata": {},
   "outputs": [],
   "source": []
  },
  {
   "attachments": {},
   "cell_type": "markdown",
   "metadata": {},
   "source": [
    "Then, we can implement a familywise-error rate control procedure, for example the Bonferroni correction."
   ]
  },
  {
   "cell_type": "code",
   "execution_count": null,
   "metadata": {},
   "outputs": [],
   "source": []
  },
  {
   "attachments": {},
   "cell_type": "markdown",
   "metadata": {},
   "source": [
    "# Detecting distribution shifts"
   ]
  },
  {
   "attachments": {},
   "cell_type": "markdown",
   "metadata": {},
   "source": [
    "## Time-stratified coverage metric"
   ]
  },
  {
   "attachments": {},
   "cell_type": "markdown",
   "metadata": {},
   "source": [
    "We want to use the time-stratified coverage metric to detect distribution shifts. \n",
    "$$ \\text{Time Stratified Loss metric:}\\quad    \\min_{t\\in \\{1,\\ldots,T\\}}\\frac{1}{|\\mathcal{I}_t|}\\sum_{i\\in\\mathcal{I}_t}\\mathcal{L}(\\mathcal{C}_\\alpha(x_i),y_i)$$\n",
    "which is basically detecting whether the average loss is significantly different in the test set."
   ]
  },
  {
   "attachments": {},
   "cell_type": "markdown",
   "metadata": {},
   "source": [
    "## Full conformal prediction / inductive conformal predictors"
   ]
  },
  {
   "attachments": {},
   "cell_type": "markdown",
   "metadata": {},
   "source": [
    "We define conformal predictors as\n",
    "$$\\Gamma^\\epsilon(z_1,\\ldots,z_n)(x_{n+1}) = \\{y|p^y\\geq \\epsilon\\}$$"
   ]
  },
  {
   "cell_type": "markdown",
   "metadata": {},
   "source": []
  }
 ],
 "metadata": {
  "kernelspec": {
   "display_name": "Python 3.10.8 ('conformal')",
   "language": "python",
   "name": "python3"
  },
  "language_info": {
   "codemirror_mode": {
    "name": "ipython",
    "version": 3
   },
   "file_extension": ".py",
   "mimetype": "text/x-python",
   "name": "python",
   "nbconvert_exporter": "python",
   "pygments_lexer": "ipython3",
   "version": "3.10.8 (main, Nov 24 2022, 08:09:04) [Clang 14.0.6 ]"
  },
  "orig_nbformat": 4,
  "vscode": {
   "interpreter": {
    "hash": "e4bb16644b7805f2b6da05dca5aae8dc9248070802afd077ed9812795780bba0"
   }
  }
 },
 "nbformat": 4,
 "nbformat_minor": 2
}
