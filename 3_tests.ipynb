{
 "cells": [
  {
   "attachments": {},
   "cell_type": "markdown",
   "metadata": {},
   "source": [
    "# Detecting distribution shifts"
   ]
  },
  {
   "attachments": {},
   "cell_type": "markdown",
   "metadata": {},
   "source": [
    "## Setup"
   ]
  },
  {
   "cell_type": "code",
   "execution_count": 61,
   "metadata": {},
   "outputs": [],
   "source": [
    "import numpy as np\n",
    "import pandas as pd\n",
    "import matplotlib.pyplot as plt\n",
    "np.random.seed(0)\n",
    "from scipy.optimize import fsolve\n",
    "from scipy.special import erf\n",
    "from scipy.integrate import quad\n",
    "from functools import partial\n",
    "from scipy.stats import binomtest\n",
    "from tqdm import tqdm\n",
    "\n",
    "from sklearn.ensemble import RandomForestRegressor\n",
    "from sklearn.model_selection import train_test_split\n",
    "from sklearn.datasets import fetch_openml\n",
    "from statsmodels.stats.multitest import multipletests\n",
    "from scipy.stats import percentileofscore\n",
    "\n",
    "\n",
    "from crepes import ConformalRegressor, ConformalPredictiveSystem\n",
    "\n",
    "from crepes.fillings import (sigma_variance, \n",
    "                            sigma_variance_oob,\n",
    "                            sigma_knn,\n",
    "                            binning)"
   ]
  },
  {
   "attachments": {},
   "cell_type": "markdown",
   "metadata": {},
   "source": [
    "In this notebook we explain how to implement the shift detection algorithm. We start downloading the data and modeling it."
   ]
  },
  {
   "cell_type": "code",
   "execution_count": 62,
   "metadata": {},
   "outputs": [
    {
     "name": "stderr",
     "output_type": "stream",
     "text": [
      "/Users/pablo_1/opt/miniconda3/envs/conformal/lib/python3.10/site-packages/sklearn/datasets/_openml.py:932: FutureWarning: The default value of `parser` will change from `'liac-arff'` to `'auto'` in 1.4. You can set `parser='auto'` to silence this warning. Therefore, an `ImportError` will be raised from 1.4 if the dataset is dense and pandas is not installed. Note that the pandas parser may return different data types. See the Notes Section in fetch_openml's API doc for details.\n",
      "  warn(\n"
     ]
    },
    {
     "name": "stdout",
     "output_type": "stream",
     "text": [
      "Before normalization range: 75000.0 7700000.0\n",
      "After normalization range: 0.13798043023679007 0.9999999999991728\n"
     ]
    }
   ],
   "source": [
    "# First we load the dataset\n",
    "dataset = fetch_openml(name=\"house_sales\",version=3)\n",
    "\n",
    "X = dataset.data.values.astype(float)\n",
    "y = dataset.target.values.astype(float)\n",
    "print('Before normalization range:',y.min(), y.max())\n",
    "\n",
    "# and also normalize it such that the y values are in the range [0,1]\n",
    "#y = (np.tanh(np.array([(y[i]-y.min())/(y.max()-y.min()) for i in range(len(y))])*2-1)+1)/2.\n",
    "#y = np.array([(y[i]-y.min())/(y.max()-y.min()) for i in range(len(y))])\n",
    "y = np.tanh(y/y.mean())\n",
    "print('After normalization range:',y.min(), y.max())"
   ]
  },
  {
   "attachments": {},
   "cell_type": "markdown",
   "metadata": {},
   "source": [
    "Now we spit the data in the main and shifted data, and form tuples for comparison."
   ]
  },
  {
   "cell_type": "code",
   "execution_count": 63,
   "metadata": {},
   "outputs": [
    {
     "name": "stdout",
     "output_type": "stream",
     "text": [
      "After creating tuples (10202, 42) (604, 42)\n",
      "(10202,)\n",
      "(604,)\n"
     ]
    }
   ],
   "source": [
    "# Then we split the data such that we can later on introduce a distribution shift\n",
    "X_main, X_shift, y_main, y_shift = X[(4e4 >= X[:, 3])] , X[(4e4 < X[:, 3])] , y[(4e4 >= X[:, 3])] , y[(4e4 < X[:, 3])]\n",
    "\n",
    "# We want to have an even number of samples, to create tuples\n",
    "if len(X_shift) % 2 == 1:\n",
    "    X_shift = X_shift[:-1]\n",
    "    y_shift = y_shift[:-1]\n",
    "if len(X_main) % 2 == 1:\n",
    "    X_main = X_main[:-1]\n",
    "    y_main = y_main[:-1]\n",
    "\n",
    "## The input will be two copies of X, one for each house\n",
    "X_main = X_main.reshape(X_main.shape[0]//2,-1)\n",
    "X_shift = X_shift.reshape(X_shift.shape[0]//2,-1)\n",
    "print('After creating tuples',X_main.shape, X_shift.shape)\n",
    "\n",
    "## We want to estimate the difference between the two y values\n",
    "y_main = y_main.reshape(y_main.shape[0]//2,-1)\n",
    "y_main = y_main[:,0] - y_main[:,1]\n",
    "print(y_main.shape)\n",
    "\n",
    "## and also in the shifted dataset\n",
    "y_shift = y_shift.reshape(y_shift.shape[0]//2,-1)\n",
    "y_shift = y_shift[:,0] - y_shift[:,1]\n",
    "print(y_shift.shape)"
   ]
  },
  {
   "attachments": {},
   "cell_type": "markdown",
   "metadata": {},
   "source": [
    "Finally we create a calibration dataset."
   ]
  },
  {
   "cell_type": "code",
   "execution_count": 64,
   "metadata": {},
   "outputs": [],
   "source": [
    "X_train, X_cal, y_train, y_cal = train_test_split(X_main, y_main, test_size=5000)"
   ]
  },
  {
   "attachments": {},
   "cell_type": "markdown",
   "metadata": {},
   "source": [
    "Now we create the model and train it."
   ]
  },
  {
   "cell_type": "code",
   "execution_count": 65,
   "metadata": {},
   "outputs": [
    {
     "data": {
      "text/html": [
       "<style>#sk-container-id-3 {color: black;background-color: white;}#sk-container-id-3 pre{padding: 0;}#sk-container-id-3 div.sk-toggleable {background-color: white;}#sk-container-id-3 label.sk-toggleable__label {cursor: pointer;display: block;width: 100%;margin-bottom: 0;padding: 0.3em;box-sizing: border-box;text-align: center;}#sk-container-id-3 label.sk-toggleable__label-arrow:before {content: \"▸\";float: left;margin-right: 0.25em;color: #696969;}#sk-container-id-3 label.sk-toggleable__label-arrow:hover:before {color: black;}#sk-container-id-3 div.sk-estimator:hover label.sk-toggleable__label-arrow:before {color: black;}#sk-container-id-3 div.sk-toggleable__content {max-height: 0;max-width: 0;overflow: hidden;text-align: left;background-color: #f0f8ff;}#sk-container-id-3 div.sk-toggleable__content pre {margin: 0.2em;color: black;border-radius: 0.25em;background-color: #f0f8ff;}#sk-container-id-3 input.sk-toggleable__control:checked~div.sk-toggleable__content {max-height: 200px;max-width: 100%;overflow: auto;}#sk-container-id-3 input.sk-toggleable__control:checked~label.sk-toggleable__label-arrow:before {content: \"▾\";}#sk-container-id-3 div.sk-estimator input.sk-toggleable__control:checked~label.sk-toggleable__label {background-color: #d4ebff;}#sk-container-id-3 div.sk-label input.sk-toggleable__control:checked~label.sk-toggleable__label {background-color: #d4ebff;}#sk-container-id-3 input.sk-hidden--visually {border: 0;clip: rect(1px 1px 1px 1px);clip: rect(1px, 1px, 1px, 1px);height: 1px;margin: -1px;overflow: hidden;padding: 0;position: absolute;width: 1px;}#sk-container-id-3 div.sk-estimator {font-family: monospace;background-color: #f0f8ff;border: 1px dotted black;border-radius: 0.25em;box-sizing: border-box;margin-bottom: 0.5em;}#sk-container-id-3 div.sk-estimator:hover {background-color: #d4ebff;}#sk-container-id-3 div.sk-parallel-item::after {content: \"\";width: 100%;border-bottom: 1px solid gray;flex-grow: 1;}#sk-container-id-3 div.sk-label:hover label.sk-toggleable__label {background-color: #d4ebff;}#sk-container-id-3 div.sk-serial::before {content: \"\";position: absolute;border-left: 1px solid gray;box-sizing: border-box;top: 0;bottom: 0;left: 50%;z-index: 0;}#sk-container-id-3 div.sk-serial {display: flex;flex-direction: column;align-items: center;background-color: white;padding-right: 0.2em;padding-left: 0.2em;position: relative;}#sk-container-id-3 div.sk-item {position: relative;z-index: 1;}#sk-container-id-3 div.sk-parallel {display: flex;align-items: stretch;justify-content: center;background-color: white;position: relative;}#sk-container-id-3 div.sk-item::before, #sk-container-id-3 div.sk-parallel-item::before {content: \"\";position: absolute;border-left: 1px solid gray;box-sizing: border-box;top: 0;bottom: 0;left: 50%;z-index: -1;}#sk-container-id-3 div.sk-parallel-item {display: flex;flex-direction: column;z-index: 1;position: relative;background-color: white;}#sk-container-id-3 div.sk-parallel-item:first-child::after {align-self: flex-end;width: 50%;}#sk-container-id-3 div.sk-parallel-item:last-child::after {align-self: flex-start;width: 50%;}#sk-container-id-3 div.sk-parallel-item:only-child::after {width: 0;}#sk-container-id-3 div.sk-dashed-wrapped {border: 1px dashed gray;margin: 0 0.4em 0.5em 0.4em;box-sizing: border-box;padding-bottom: 0.4em;background-color: white;}#sk-container-id-3 div.sk-label label {font-family: monospace;font-weight: bold;display: inline-block;line-height: 1.2em;}#sk-container-id-3 div.sk-label-container {text-align: center;}#sk-container-id-3 div.sk-container {/* jupyter's `normalize.less` sets `[hidden] { display: none; }` but bootstrap.min.css set `[hidden] { display: none !important; }` so we also need the `!important` here to be able to override the default hidden behavior on the sphinx rendered scikit-learn.org. See: https://github.com/scikit-learn/scikit-learn/issues/21755 */display: inline-block !important;position: relative;}#sk-container-id-3 div.sk-text-repr-fallback {display: none;}</style><div id=\"sk-container-id-3\" class=\"sk-top-container\"><div class=\"sk-text-repr-fallback\"><pre>RandomForestRegressor(n_estimators=500, n_jobs=-1)</pre><b>In a Jupyter environment, please rerun this cell to show the HTML representation or trust the notebook. <br />On GitHub, the HTML representation is unable to render, please try loading this page with nbviewer.org.</b></div><div class=\"sk-container\" hidden><div class=\"sk-item\"><div class=\"sk-estimator sk-toggleable\"><input class=\"sk-toggleable__control sk-hidden--visually\" id=\"sk-estimator-id-3\" type=\"checkbox\" checked><label for=\"sk-estimator-id-3\" class=\"sk-toggleable__label sk-toggleable__label-arrow\">RandomForestRegressor</label><div class=\"sk-toggleable__content\"><pre>RandomForestRegressor(n_estimators=500, n_jobs=-1)</pre></div></div></div></div></div>"
      ],
      "text/plain": [
       "RandomForestRegressor(n_estimators=500, n_jobs=-1)"
      ]
     },
     "execution_count": 65,
     "metadata": {},
     "output_type": "execute_result"
    }
   ],
   "source": [
    "# Then we train a random forest regressor on the training set\n",
    "random_forest_model = RandomForestRegressor(n_jobs=-1, n_estimators=500) \n",
    "random_forest_model.fit(X_train, y_train)"
   ]
  },
  {
   "attachments": {},
   "cell_type": "markdown",
   "metadata": {},
   "source": [
    "We can also decide how to mix the calibration and test dataset"
   ]
  },
  {
   "cell_type": "code",
   "execution_count": 66,
   "metadata": {},
   "outputs": [],
   "source": [
    "# Mix the calibration and the shifted data maintaining their sizes\n",
    "calsize = len(X_cal)//3 # a percentage of the calibration and shifted sets will be mixed up\n",
    "shiftsize = len(X_shift)//3\n",
    "\n",
    "np.random.shuffle(X_cal)\n",
    "np.random.shuffle(X_shift)\n",
    "np.random.shuffle(y_cal)\n",
    "np.random.shuffle(y_shift)\n",
    "\n",
    "X_cal_shift, X_cal_remain, X_shift_remain = np.concatenate((X_cal[:calsize], X_shift[:shiftsize]), axis=0), X_cal[calsize:], X_shift[shiftsize:]\n",
    "y_cal_shift, y_cal_remain, y_shift_remain = np.concatenate((y_cal[:calsize], y_shift[:shiftsize]), axis=0), y_cal[calsize:], y_shift[shiftsize:]\n",
    "\n",
    "X_cal_new, X_shift_new, y_cal_new, y_shift_new = train_test_split(X_cal_shift, y_cal_shift, test_size=len(X_cal_shift)//2)\n",
    "\n",
    "# mix the new and remain sets\n",
    "np.random.shuffle(np.concatenate((X_cal_new, X_cal_remain), axis=0))\n",
    "np.random.shuffle(np.concatenate((X_shift_new, X_shift_remain), axis=0))\n",
    "np.random.shuffle(np.concatenate((y_cal_new, y_cal_remain), axis=0))\n",
    "np.random.shuffle(np.concatenate((y_shift_new, y_shift_remain), axis=0))\n"
   ]
  },
  {
   "attachments": {},
   "cell_type": "markdown",
   "metadata": {},
   "source": [
    "## Conformal model"
   ]
  },
  {
   "attachments": {},
   "cell_type": "markdown",
   "metadata": {},
   "source": [
    "We will target a success probability $1-\\delta = 0.95$. Then we train the conformal model on the residuals on the predictions of the random forest."
   ]
  },
  {
   "cell_type": "code",
   "execution_count": 67,
   "metadata": {},
   "outputs": [
    {
     "data": {
      "text/plain": [
       "ConformalRegressor(fitted=True, normalized=False, mondrian=False)"
      ]
     },
     "execution_count": 67,
     "metadata": {},
     "output_type": "execute_result"
    }
   ],
   "source": [
    "delta = 0.05\n",
    "epsilon = 0.05\n",
    "\n",
    "cr_std = ConformalRegressor()\n",
    "y_hat_cal = random_forest_model.predict(X_cal)\n",
    "residuals_cal = y_cal - y_hat_cal\n",
    "# and fit it to the residuals\n",
    "cr_std.fit(residuals=residuals_cal)"
   ]
  },
  {
   "attachments": {},
   "cell_type": "markdown",
   "metadata": {},
   "source": [
    "We can now make prediction on a given test set."
   ]
  },
  {
   "cell_type": "code",
   "execution_count": 68,
   "metadata": {},
   "outputs": [],
   "source": [
    "# Using such model we can now predict the residuals on the test set\n",
    "y_hat_shift = random_forest_model.predict(X_shift)\n",
    "intervals_std = cr_std.predict(y_hat=y_hat_shift, confidence=1-delta)"
   ]
  },
  {
   "attachments": {},
   "cell_type": "markdown",
   "metadata": {},
   "source": [
    "### Optional -- More complex models"
   ]
  },
  {
   "attachments": {},
   "cell_type": "markdown",
   "metadata": {},
   "source": [
    "The previous models assigns the same uncertainty interval to all predictions. We can alternatively use two more models that callibrate the confidence interval for each prediction based on their heuristic difficulty using k-nearest neighbours."
   ]
  },
  {
   "cell_type": "code",
   "execution_count": 69,
   "metadata": {},
   "outputs": [],
   "source": [
    "# Second model based on k-nn\n",
    "sigmas_cal_knn = sigma_knn(X=X_cal, residuals=residuals_cal)\n",
    "cr_norm_knn = ConformalRegressor()\n",
    "cr_norm_knn.fit(residuals=residuals_cal, sigmas=sigmas_cal_knn)\n",
    "sigmas_test_knn = sigma_knn(X=X_cal, residuals=residuals_cal, X_test=X_shift)\n",
    "intervals_norm_knn = cr_norm_knn.predict(y_hat=y_hat_shift, \n",
    "                                        sigmas=sigmas_test_knn,\n",
    "                                        y_min=0, y_max=1)\n",
    "\n",
    "# Third model based on binning\n",
    "bins_cal, bin_thresholds = binning(values=sigmas_cal_knn, bins=20)\n",
    "cr_mond = ConformalRegressor()\n",
    "cr_mond.fit(residuals=residuals_cal, bins=bins_cal)\n",
    "bins_test = binning(values=sigmas_test_knn, bins=bin_thresholds)\n",
    "intervals_mond = cr_mond.predict(y_hat=y_hat_shift, bins=bins_test, \n",
    "                                        y_min=0, y_max=1)"
   ]
  },
  {
   "attachments": {},
   "cell_type": "markdown",
   "metadata": {},
   "source": [
    "We can compute the coverage of the three models"
   ]
  },
  {
   "cell_type": "code",
   "execution_count": 70,
   "metadata": {},
   "outputs": [
    {
     "data": {
      "text/html": [
       "<div>\n",
       "<style scoped>\n",
       "    .dataframe tbody tr th:only-of-type {\n",
       "        vertical-align: middle;\n",
       "    }\n",
       "\n",
       "    .dataframe tbody tr th {\n",
       "        vertical-align: top;\n",
       "    }\n",
       "\n",
       "    .dataframe thead th {\n",
       "        text-align: right;\n",
       "    }\n",
       "</style>\n",
       "<table border=\"1\" class=\"dataframe\">\n",
       "  <thead>\n",
       "    <tr style=\"text-align: right;\">\n",
       "      <th></th>\n",
       "      <th>Coverage</th>\n",
       "      <th>Mean size</th>\n",
       "      <th>Median size</th>\n",
       "    </tr>\n",
       "  </thead>\n",
       "  <tbody>\n",
       "    <tr>\n",
       "      <th>Std CR</th>\n",
       "      <td>0.9702</td>\n",
       "      <td>1.3413</td>\n",
       "      <td>1.3413</td>\n",
       "    </tr>\n",
       "    <tr>\n",
       "      <th>Norm CR knn</th>\n",
       "      <td>0.4735</td>\n",
       "      <td>0.7460</td>\n",
       "      <td>0.7964</td>\n",
       "    </tr>\n",
       "    <tr>\n",
       "      <th>Mond CR</th>\n",
       "      <td>0.4768</td>\n",
       "      <td>0.6657</td>\n",
       "      <td>0.6615</td>\n",
       "    </tr>\n",
       "    <tr>\n",
       "      <th>Mean</th>\n",
       "      <td>0.6402</td>\n",
       "      <td>0.9177</td>\n",
       "      <td>0.9331</td>\n",
       "    </tr>\n",
       "  </tbody>\n",
       "</table>\n",
       "</div>"
      ],
      "text/plain": [
       "             Coverage  Mean size  Median size\n",
       "Std CR         0.9702     1.3413       1.3413\n",
       "Norm CR knn    0.4735     0.7460       0.7964\n",
       "Mond CR        0.4768     0.6657       0.6615\n",
       "Mean           0.6402     0.9177       0.9331"
      ]
     },
     "metadata": {},
     "output_type": "display_data"
    }
   ],
   "source": [
    "coverages = []\n",
    "mean_sizes = []\n",
    "median_sizes = []\n",
    "\n",
    "prediction_intervals = {\n",
    "    \"Std CR\":intervals_std,\n",
    "    \"Norm CR knn\":intervals_norm_knn,\n",
    "    \"Mond CR\":intervals_mond,\n",
    "}\n",
    "\n",
    "for name in prediction_intervals.keys():\n",
    "    intervals = prediction_intervals[name]\n",
    "    coverages.append(np.sum([1 if (y_shift[i]>=intervals[i,0] and \n",
    "                                   y_shift[i]<=intervals[i,1]) else 0 \n",
    "                            for i in range(len(y_shift))])/len(y_shift))\n",
    "    mean_sizes.append((intervals[:,1]-intervals[:,0]).mean())\n",
    "    median_sizes.append(np.median((intervals[:,1]-intervals[:,0])))\n",
    "\n",
    "pred_int_df = pd.DataFrame({\"Coverage\":coverages, \n",
    "                            \"Mean size\":mean_sizes, \n",
    "                            \"Median size\":median_sizes}, \n",
    "                           index=list(prediction_intervals.keys()))\n",
    "\n",
    "pred_int_df.loc[\"Mean\"] = [pred_int_df[\"Coverage\"].mean(), \n",
    "                           pred_int_df[\"Mean size\"].mean(),\n",
    "                           pred_int_df[\"Median size\"].mean()]\n",
    "\n",
    "display(pred_int_df.round(4))"
   ]
  },
  {
   "attachments": {},
   "cell_type": "markdown",
   "metadata": {},
   "source": [
    "## Auxiliary functions"
   ]
  },
  {
   "attachments": {},
   "cell_type": "markdown",
   "metadata": {},
   "source": [
    "In the previous section we have used pre-defined conformal models to compute the confidence intervals. We can also assume gaussian intervals derived from these residuals and reverse engineer the confidence intervals."
   ]
  },
  {
   "attachments": {},
   "cell_type": "markdown",
   "metadata": {},
   "source": [
    "First we define function that computes the standard deviation from an interval and $1-\\delta$."
   ]
  },
  {
   "cell_type": "code",
   "execution_count": 71,
   "metadata": {},
   "outputs": [],
   "source": [
    "def compute_sigma(delta, initial_interval, mean):\n",
    "    \"\"\" Computes the standard deviation of a normal distribution such that the probability of the interval is 1-delta\"\"\"\n",
    "    def cdf(sigma_):\n",
    "        return 0.5*(erf((initial_interval[1]-mean)/(np.sqrt(2)*sigma_))-erf((initial_interval[0]-mean)/(np.sqrt(2)*sigma_))) - (1-delta)\n",
    "\n",
    "    sigma = fsolve(cdf, (initial_interval[1]-initial_interval[0])/2)[0]\n",
    "    return sigma"
   ]
  },
  {
   "attachments": {},
   "cell_type": "markdown",
   "metadata": {},
   "source": [
    "Then we define a function to compute the interval in which the (assumed normal) probability distribution is larger than $\\alpha$. In other words, $\\mathcal{C}_\\alpha$."
   ]
  },
  {
   "cell_type": "code",
   "execution_count": 72,
   "metadata": {},
   "outputs": [],
   "source": [
    "def confidence_interval(mean, sigma, alpha, initial_interval_guess):\n",
    "    \"\"\" We want to compute the conformal integral in which the probability density is larger than alpha. \"\"\"\n",
    "    def normal_distribution(x, mean, sigma):\n",
    "        return np.exp(-((x-mean)**2)/(2*sigma**2))\n",
    "\n",
    "    interval_alpha = fsolve(lambda x: normal_distribution(x, mean, sigma) - alpha, x0 = initial_interval_guess)\n",
    "    return interval_alpha"
   ]
  },
  {
   "attachments": {},
   "cell_type": "markdown",
   "metadata": {},
   "source": [
    "Finally, we define a function to integrate the loss on a given interval."
   ]
  },
  {
   "cell_type": "code",
   "execution_count": 73,
   "metadata": {},
   "outputs": [],
   "source": [
    "def compute_loss(y_hat, y_gt, sigma, interval_alpha):\n",
    "    \"\"\" Integrates the  quadratic loss over the interval defined by the probability density being larger than alpha.\"\"\"\n",
    "    def normal_loss(x, y, mean, sigma):\n",
    "        return np.exp(-((x-mean)**2)/(2*sigma**2))*np.abs(x-y)\n",
    "\n",
    "    normal_l = partial(normal_loss, y=y_gt, mean=y_hat, sigma = sigma)\n",
    "    loss = quad(normal_l, interval_alpha[0], interval_alpha[1])[0]\n",
    "    return loss"
   ]
  },
  {
   "attachments": {},
   "cell_type": "markdown",
   "metadata": {},
   "source": [
    "### Learn the Test"
   ]
  },
  {
   "attachments": {},
   "cell_type": "markdown",
   "metadata": {},
   "source": [
    "We also want to compute the p-value of the hypothesis $\\mathcal{H}_\\alpha$ that the risk $R(\\alpha)\\leq \\lambda$ for a chosen $\\lambda$."
   ]
  },
  {
   "cell_type": "code",
   "execution_count": 74,
   "metadata": {},
   "outputs": [],
   "source": [
    "lambda_ = 0.5\n",
    "\n",
    "def pvalue(y_gt, y_hat, sigmas, lambda_):\n",
    "    \"\"\" Computes the p-value of the hypothesis that the risk is lower than some \\lambda.\"\"\"\n",
    "\n",
    "    pvalues = []\n",
    "\n",
    "    # For each y\n",
    "    alphas = np.linspace(0.01, 0.99, 100)\n",
    "\n",
    "    for alpha in alphas:\n",
    "\n",
    "        loss = 0\n",
    "        for e in range(len(y_hat)):\n",
    "\n",
    "            # Step 1: compute the confidence interval, then compute the loss\n",
    "            interval_alpha = confidence_interval(mean = y_hat[e], sigma = sigmas[e], alpha = alpha, initial_interval_guess=[y_hat[e] - sigmas[e], y_hat[e]+sigmas[e]])\n",
    "            loss += compute_loss(y_hat[e], y_gt[e], sigmas[e], interval_alpha)\n",
    "\n",
    "        loss /= len(y_hat)\n",
    "\n",
    "        # Step 1: Compute p-values\n",
    "        p_value = np.exp(-2*len(y_hat)*(lambda_ - loss)**2)\n",
    "\n",
    "        pvalues.append(p_value)\n",
    "\n",
    "    # Step 2: Family-wise error correction\n",
    "    reject, pvals_corrected, _, bonferroni_delta = multipletests(pvalues, delta, method = 'bonferroni')\n",
    "\n",
    "    return alphas, pvals_corrected, reject"
   ]
  },
  {
   "attachments": {},
   "cell_type": "markdown",
   "metadata": {},
   "source": [
    "## Time-stratified loss metric"
   ]
  },
  {
   "attachments": {},
   "cell_type": "markdown",
   "metadata": {},
   "source": [
    "An alternative easy way is to check whether the loss of in the new dataset is larger than in the original model."
   ]
  },
  {
   "cell_type": "code",
   "execution_count": 75,
   "metadata": {},
   "outputs": [],
   "source": [
    "y_train_hat = random_forest_model.predict(X_train)\n",
    "intervals_y_train = cr_std.predict(y_hat=y_hat_shift, confidence=1-delta)"
   ]
  },
  {
   "cell_type": "code",
   "execution_count": 76,
   "metadata": {},
   "outputs": [],
   "source": [
    "def quick_loss(y_hat, y_train, alpha, intervals, delta):\n",
    "    \"\"\" Computes the loss function for a given sample.\"\"\"\n",
    "    \n",
    "    sigma = compute_sigma(delta, intervals, y_train)\n",
    "    interval_alpha = confidence_interval(y_hat, sigma, alpha, [y_hat - sigma, y_hat + sigma])\n",
    "    return compute_loss(y_hat, y_train, sigma, interval_alpha)"
   ]
  },
  {
   "cell_type": "code",
   "execution_count": 77,
   "metadata": {},
   "outputs": [
    {
     "data": {
      "text/plain": [
       "(5202, 5000, 604)"
      ]
     },
     "execution_count": 77,
     "metadata": {},
     "output_type": "execute_result"
    }
   ],
   "source": [
    "len(X_train), len(X_cal), len(X_shift)"
   ]
  },
  {
   "cell_type": "code",
   "execution_count": 78,
   "metadata": {},
   "outputs": [
    {
     "name": "stderr",
     "output_type": "stream",
     "text": [
      "  0%|          | 0/10 [00:00<?, ?it/s]/Users/pablo_1/opt/miniconda3/envs/conformal/lib/python3.10/site-packages/scipy/optimize/_minpack_py.py:175: RuntimeWarning: The iteration is not making good progress, as measured by the \n",
      "  improvement from the last ten iterations.\n",
      "  warnings.warn(msg, RuntimeWarning)\n",
      "/Users/pablo_1/opt/miniconda3/envs/conformal/lib/python3.10/site-packages/scipy/optimize/_minpack_py.py:175: RuntimeWarning: The iteration is not making good progress, as measured by the \n",
      "  improvement from the last five Jacobian evaluations.\n",
      "  warnings.warn(msg, RuntimeWarning)\n",
      " 10%|█         | 1/10 [00:01<00:15,  1.78s/it]/Users/pablo_1/opt/miniconda3/envs/conformal/lib/python3.10/site-packages/scipy/optimize/_minpack_py.py:175: RuntimeWarning: The iteration is not making good progress, as measured by the \n",
      "  improvement from the last five Jacobian evaluations.\n",
      "  warnings.warn(msg, RuntimeWarning)\n",
      "/Users/pablo_1/opt/miniconda3/envs/conformal/lib/python3.10/site-packages/scipy/optimize/_minpack_py.py:175: RuntimeWarning: The iteration is not making good progress, as measured by the \n",
      "  improvement from the last ten iterations.\n",
      "  warnings.warn(msg, RuntimeWarning)\n",
      " 20%|██        | 2/10 [00:02<00:10,  1.35s/it]/Users/pablo_1/opt/miniconda3/envs/conformal/lib/python3.10/site-packages/scipy/optimize/_minpack_py.py:175: RuntimeWarning: The iteration is not making good progress, as measured by the \n",
      "  improvement from the last ten iterations.\n",
      "  warnings.warn(msg, RuntimeWarning)\n",
      "/Users/pablo_1/opt/miniconda3/envs/conformal/lib/python3.10/site-packages/scipy/optimize/_minpack_py.py:175: RuntimeWarning: The iteration is not making good progress, as measured by the \n",
      "  improvement from the last five Jacobian evaluations.\n",
      "  warnings.warn(msg, RuntimeWarning)\n",
      " 30%|███       | 3/10 [00:03<00:08,  1.15s/it]/Users/pablo_1/opt/miniconda3/envs/conformal/lib/python3.10/site-packages/scipy/optimize/_minpack_py.py:175: RuntimeWarning: The iteration is not making good progress, as measured by the \n",
      "  improvement from the last five Jacobian evaluations.\n",
      "  warnings.warn(msg, RuntimeWarning)\n",
      "/Users/pablo_1/opt/miniconda3/envs/conformal/lib/python3.10/site-packages/scipy/optimize/_minpack_py.py:175: RuntimeWarning: The iteration is not making good progress, as measured by the \n",
      "  improvement from the last ten iterations.\n",
      "  warnings.warn(msg, RuntimeWarning)\n",
      " 40%|████      | 4/10 [00:04<00:06,  1.04s/it]/Users/pablo_1/opt/miniconda3/envs/conformal/lib/python3.10/site-packages/scipy/optimize/_minpack_py.py:175: RuntimeWarning: The iteration is not making good progress, as measured by the \n",
      "  improvement from the last five Jacobian evaluations.\n",
      "  warnings.warn(msg, RuntimeWarning)\n",
      "/Users/pablo_1/opt/miniconda3/envs/conformal/lib/python3.10/site-packages/scipy/optimize/_minpack_py.py:175: RuntimeWarning: The iteration is not making good progress, as measured by the \n",
      "  improvement from the last ten iterations.\n",
      "  warnings.warn(msg, RuntimeWarning)\n",
      " 50%|█████     | 5/10 [00:05<00:04,  1.04it/s]/Users/pablo_1/opt/miniconda3/envs/conformal/lib/python3.10/site-packages/scipy/optimize/_minpack_py.py:175: RuntimeWarning: The iteration is not making good progress, as measured by the \n",
      "  improvement from the last ten iterations.\n",
      "  warnings.warn(msg, RuntimeWarning)\n",
      "/Users/pablo_1/opt/miniconda3/envs/conformal/lib/python3.10/site-packages/scipy/optimize/_minpack_py.py:175: RuntimeWarning: The iteration is not making good progress, as measured by the \n",
      "  improvement from the last five Jacobian evaluations.\n",
      "  warnings.warn(msg, RuntimeWarning)\n",
      " 60%|██████    | 6/10 [00:06<00:03,  1.10it/s]/Users/pablo_1/opt/miniconda3/envs/conformal/lib/python3.10/site-packages/scipy/optimize/_minpack_py.py:175: RuntimeWarning: The iteration is not making good progress, as measured by the \n",
      "  improvement from the last ten iterations.\n",
      "  warnings.warn(msg, RuntimeWarning)\n",
      "/Users/pablo_1/opt/miniconda3/envs/conformal/lib/python3.10/site-packages/scipy/optimize/_minpack_py.py:175: RuntimeWarning: The iteration is not making good progress, as measured by the \n",
      "  improvement from the last five Jacobian evaluations.\n",
      "  warnings.warn(msg, RuntimeWarning)\n",
      " 70%|███████   | 7/10 [00:07<00:02,  1.14it/s]/Users/pablo_1/opt/miniconda3/envs/conformal/lib/python3.10/site-packages/scipy/optimize/_minpack_py.py:175: RuntimeWarning: The iteration is not making good progress, as measured by the \n",
      "  improvement from the last ten iterations.\n",
      "  warnings.warn(msg, RuntimeWarning)\n",
      "/Users/pablo_1/opt/miniconda3/envs/conformal/lib/python3.10/site-packages/scipy/optimize/_minpack_py.py:175: RuntimeWarning: The iteration is not making good progress, as measured by the \n",
      "  improvement from the last five Jacobian evaluations.\n",
      "  warnings.warn(msg, RuntimeWarning)\n",
      " 80%|████████  | 8/10 [00:07<00:01,  1.14it/s]/Users/pablo_1/opt/miniconda3/envs/conformal/lib/python3.10/site-packages/scipy/optimize/_minpack_py.py:175: RuntimeWarning: The iteration is not making good progress, as measured by the \n",
      "  improvement from the last ten iterations.\n",
      "  warnings.warn(msg, RuntimeWarning)\n",
      "/Users/pablo_1/opt/miniconda3/envs/conformal/lib/python3.10/site-packages/scipy/optimize/_minpack_py.py:175: RuntimeWarning: The iteration is not making good progress, as measured by the \n",
      "  improvement from the last five Jacobian evaluations.\n",
      "  warnings.warn(msg, RuntimeWarning)\n",
      " 90%|█████████ | 9/10 [00:08<00:00,  1.16it/s]/Users/pablo_1/opt/miniconda3/envs/conformal/lib/python3.10/site-packages/scipy/optimize/_minpack_py.py:175: RuntimeWarning: The iteration is not making good progress, as measured by the \n",
      "  improvement from the last ten iterations.\n",
      "  warnings.warn(msg, RuntimeWarning)\n",
      "/Users/pablo_1/opt/miniconda3/envs/conformal/lib/python3.10/site-packages/scipy/optimize/_minpack_py.py:175: RuntimeWarning: The iteration is not making good progress, as measured by the \n",
      "  improvement from the last five Jacobian evaluations.\n",
      "  warnings.warn(msg, RuntimeWarning)\n",
      "100%|██████████| 10/10 [00:09<00:00,  1.04it/s]\n",
      "/Users/pablo_1/opt/miniconda3/envs/conformal/lib/python3.10/site-packages/scipy/optimize/_minpack_py.py:175: RuntimeWarning: The iteration is not making good progress, as measured by the \n",
      "  improvement from the last five Jacobian evaluations.\n",
      "  warnings.warn(msg, RuntimeWarning)\n",
      "/Users/pablo_1/opt/miniconda3/envs/conformal/lib/python3.10/site-packages/scipy/optimize/_minpack_py.py:175: RuntimeWarning: The iteration is not making good progress, as measured by the \n",
      "  improvement from the last ten iterations.\n",
      "  warnings.warn(msg, RuntimeWarning)\n"
     ]
    }
   ],
   "source": [
    "losses = [] \n",
    "alpha = 0.5\n",
    "for j in tqdm(range(10)):\n",
    "    X_cal_subset = X_cal[j*500:(j+1)*500]\n",
    "    y_cal_subset = y_cal[j*500:(j+1)*500]\n",
    "\n",
    "    y_cal_hat_subset = random_forest_model.predict(X_cal_subset)\n",
    "    intervals_y_train = cr_std.predict(y_hat=y_cal_hat_subset, confidence=1-delta)\n",
    "    losses_ = []\n",
    "    for i in range(len(y_cal_subset)):\n",
    "        losses_.append(quick_loss(y_cal_hat_subset[i], y_cal_subset[i], alpha, intervals_y_train[i], delta))\n",
    "\n",
    "    loss_train = np.mean(losses_)\n",
    "    losses.append(loss_train)\n",
    "\n",
    "y_shift_hat = random_forest_model.predict(X_shift)\n",
    "intervals_shift = cr_std.predict(y_hat=y_shift_hat, confidence=1-delta)\n",
    "loss_test = np.mean([quick_loss(y_shift_hat[i], y_shift[i], alpha, intervals_shift[i], delta) for i in range(len(y_shift))])"
   ]
  },
  {
   "cell_type": "code",
   "execution_count": 79,
   "metadata": {},
   "outputs": [
    {
     "name": "stdout",
     "output_type": "stream",
     "text": [
      "No distribution shift detected\n",
      "[0.1666130828478795, 0.15923880730506504, 0.15492822982040014, 0.16412193287024435, 0.13726269959558407, 0.14259455340000202, 0.16336602189154723, 0.16674872534639962, 0.15982354885577132, 0.15472022755219164]\n",
      "0.13736353618007696\n"
     ]
    }
   ],
   "source": [
    "if loss_test > np.quantile(losses, 0.95):\n",
    "    print('Distribution shift detected')\n",
    "else:\n",
    "    print('No distribution shift detected')\n",
    "print(losses)\n",
    "print(loss_test)"
   ]
  },
  {
   "attachments": {},
   "cell_type": "markdown",
   "metadata": {},
   "source": [
    "## Split conformal"
   ]
  },
  {
   "attachments": {},
   "cell_type": "markdown",
   "metadata": {},
   "source": [
    "Basically we repeat the same analysis as above for some calibrated $\\alpha$."
   ]
  },
  {
   "cell_type": "code",
   "execution_count": 80,
   "metadata": {},
   "outputs": [
    {
     "name": "stderr",
     "output_type": "stream",
     "text": [
      "/Users/pablo_1/opt/miniconda3/envs/conformal/lib/python3.10/site-packages/scipy/optimize/_minpack_py.py:175: RuntimeWarning: The iteration is not making good progress, as measured by the \n",
      "  improvement from the last ten iterations.\n",
      "  warnings.warn(msg, RuntimeWarning)\n",
      "/Users/pablo_1/opt/miniconda3/envs/conformal/lib/python3.10/site-packages/scipy/optimize/_minpack_py.py:175: RuntimeWarning: The iteration is not making good progress, as measured by the \n",
      "  improvement from the last five Jacobian evaluations.\n",
      "  warnings.warn(msg, RuntimeWarning)\n",
      "/Users/pablo_1/opt/miniconda3/envs/conformal/lib/python3.10/site-packages/scipy/optimize/_minpack_py.py:175: RuntimeWarning: The iteration is not making good progress, as measured by the \n",
      "  improvement from the last five Jacobian evaluations.\n",
      "  warnings.warn(msg, RuntimeWarning)\n",
      "/Users/pablo_1/opt/miniconda3/envs/conformal/lib/python3.10/site-packages/scipy/optimize/_minpack_py.py:175: RuntimeWarning: The iteration is not making good progress, as measured by the \n",
      "  improvement from the last ten iterations.\n",
      "  warnings.warn(msg, RuntimeWarning)\n"
     ]
    },
    {
     "name": "stdout",
     "output_type": "stream",
     "text": [
      "Distribution shift detected with pvalue 1.0\n"
     ]
    }
   ],
   "source": [
    "y_hat_cal = random_forest_model.predict(X_shift)\n",
    "intervals = cr_std.predict(y_hat=y_hat_cal, confidence=1-delta)\n",
    "sigmas = [compute_sigma(delta, intervals[e], y_hat_cal[e]) for e in range(len(y_hat_cal))]\n",
    "\n",
    "alphas, pvals_corrected, reject = pvalue(y_shift, y_hat_cal, sigmas, lambda_)\n",
    "\n",
    "# Alpha is the minium alpha that is significant\n",
    "alphas = alphas[np.where(reject == True)][0]\n",
    "\n",
    "losses = []\n",
    "\n",
    "y_cal_hat = random_forest_model.predict(X_cal)\n",
    "intervals_y_cal = cr_std.predict(y_hat=y_cal_hat, confidence=1-alpha)\n",
    "\n",
    "for i in range(len(y_cal)):\n",
    "    losses.append(quick_loss(y_cal_hat[i], y_cal[i], alpha, intervals_y_cal[i], delta))\n",
    "\n",
    "loss_threshold = np.quantile(losses, 0.95)\n",
    "\n",
    "y_shift_hat = random_forest_model.predict(X_shift)\n",
    "intervals_shift = cr_std.predict(y_hat=y_shift_hat, confidence=1-delta)\n",
    "above_threshold = []\n",
    "for i in range(len(y_shift)):\n",
    "    above_threshold.append(quick_loss(y_shift_hat[i], y_shift[i], alpha, intervals_shift[i], delta) > loss_threshold)\n",
    "loss_test_check = np.sum(above_threshold)\n",
    "\n",
    "# Implement binomial test\n",
    "result = binomtest(loss_test_check, len(losses), 1-delta, alternative='greater')\n",
    "\n",
    "if result.pvalue > epsilon:\n",
    "    print('Distribution shift detected with pvalue {}'.format(result.pvalue))\n",
    "else:\n",
    "    print('No distribution shift detected with pvalue {}'.format(result.pvalue))"
   ]
  },
  {
   "attachments": {},
   "cell_type": "markdown",
   "metadata": {},
   "source": [
    "## Inductive conformal predictors"
   ]
  },
  {
   "attachments": {},
   "cell_type": "markdown",
   "metadata": {},
   "source": [
    "We are going to compute the loss of exchanging one element of the training set with the shifted data. Then we will compute the corresponding p-values."
   ]
  },
  {
   "cell_type": "code",
   "execution_count": 81,
   "metadata": {},
   "outputs": [],
   "source": [
    "new_x = np.expand_dims(X_shift[0], axis = 0)\n",
    "new_y = np.expand_dims(y_shift[0], axis = 0)\n",
    "\n",
    "alpha = 1e-5\n",
    "ncal = len(y_cal)\n",
    "\n",
    "# First we fit a model to the data\n",
    "random_forest_model = RandomForestRegressor(n_estimators=100)\n",
    "random_forest_model.fit(X_train, y_train)\n",
    "\n",
    "# We can now compute the residuals\n",
    "y_hat_cal = random_forest_model.predict(X_cal)\n",
    "residuals_cal = y_cal - y_hat_cal\n",
    "\n",
    "# We can now fit a model to the residuals\n",
    "cr_std = ConformalRegressor()\n",
    "cr_std.fit(residuals=residuals_cal)\n",
    "\n",
    "def find_lamdas(X, y, delta):\n",
    "    lambdas_ = []\n",
    "    sigmas = []\n",
    "    intervals = []\n",
    "\n",
    "    for yc, xc in zip(y, X):\n",
    "\n",
    "        xc = xc.reshape(1, -1)\n",
    "\n",
    "        # Compute predictions and confidence intervals\n",
    "        yhc = random_forest_model.predict(xc)\n",
    "        interval = cr_std.predict(y_hat=yhc, confidence=1-delta)[0]\n",
    "        intervals.append(interval)\n",
    "\n",
    "        # Compute the loss of the samples\n",
    "        sigma = compute_sigma(delta = delta, initial_interval = interval, mean = yhc)\n",
    "        sigmas.append(sigma)\n",
    "        lambda_ = compute_loss(yhc, yc, sigma, interval)\n",
    "        lambdas_.append(lambda_)\n",
    "\n",
    "    return lambdas_, sigmas, intervals\n",
    "\n",
    "# Compute the calibration lambdas\n",
    "lambdas_i, sigmas, intervals = find_lamdas(X_cal, y_cal, delta = delta)\n",
    "\n",
    "# Compute the test lambdas\n",
    "lambdas_i_shift, sigmas_shift, intervals_shift = find_lamdas(X_shift, y_shift, delta = delta)\n",
    "\n",
    "# We can further compute the percentile\n",
    "p = np.percentile(lambdas_i, 100*delta)\n",
    "#percentile = percentileofscore(lambdas_i, lambda_test)"
   ]
  },
  {
   "attachments": {},
   "cell_type": "markdown",
   "metadata": {},
   "source": [
    "We now want to compute the possible values of y such that the corresponding p-value is larger than $\\epsilon$, $p^y \\geq \\epsilon$ for \n",
    "$$p^y := \\frac{|\\{ i \\in 0,\\ldots,n_{cal}| \\lambda_i \\leq \\lambda_y\\}|+1}{n_{cal}+1}\\geq \\epsilon.$$\n",
    "First we compute how the p-value should be\n"
   ]
  },
  {
   "cell_type": "code",
   "execution_count": 82,
   "metadata": {},
   "outputs": [
    {
     "data": {
      "text/plain": [
       "0.5494613407605338"
      ]
     },
     "execution_count": 82,
     "metadata": {},
     "output_type": "execute_result"
    }
   ],
   "source": [
    "np.quantile(lambdas_i, ((1-epsilon)*(ncal + 1) - 1)/len(lambdas_i))"
   ]
  },
  {
   "cell_type": "code",
   "execution_count": 83,
   "metadata": {},
   "outputs": [
    {
     "name": "stdout",
     "output_type": "stream",
     "text": [
      "The quantile 0.95 of the calibration set is 0.5494613407605338\n",
      "We do NOT detect distribution shift, based on the p-value above\n",
      "We do NOT detect distribution shift, based on the p-value above\n",
      "We do NOT detect distribution shift, based on the p-value above\n",
      "We do NOT detect distribution shift, based on the p-value above\n",
      "We do NOT detect distribution shift, based on the p-value above\n",
      "We do NOT detect distribution shift, based on the p-value above\n",
      "We do NOT detect distribution shift, based on the p-value above\n",
      "We do NOT detect distribution shift, based on the p-value above\n",
      "We do NOT detect distribution shift, based on the p-value above\n",
      "We do NOT detect distribution shift, based on the p-value above\n",
      "We do NOT detect distribution shift, based on the p-value above\n",
      "We do NOT detect distribution shift, based on the p-value above\n",
      "We do NOT detect distribution shift, based on the p-value above\n",
      "We do NOT detect distribution shift, based on the p-value above\n",
      "We do NOT detect distribution shift, based on the p-value above\n",
      "We do NOT detect distribution shift, based on the p-value above\n",
      "We do NOT detect distribution shift, based on the p-value above\n",
      "We do NOT detect distribution shift, based on the p-value above\n",
      "We do NOT detect distribution shift, based on the p-value above\n",
      "We do NOT detect distribution shift, based on the p-value above\n",
      "We do NOT detect distribution shift, based on the p-value above\n",
      "We do NOT detect distribution shift, based on the p-value above\n",
      "We do NOT detect distribution shift, based on the p-value above\n",
      "We do NOT detect distribution shift, based on the p-value above\n",
      "We do NOT detect distribution shift, based on the p-value above\n",
      "We do NOT detect distribution shift, based on the p-value above\n",
      "We detect distribution shift, based on the p-value above\n",
      "We do NOT detect distribution shift, based on the p-value above\n",
      "We do NOT detect distribution shift, based on the p-value above\n",
      "We do NOT detect distribution shift, based on the p-value above\n",
      "We do NOT detect distribution shift, based on the p-value above\n",
      "We do NOT detect distribution shift, based on the p-value above\n",
      "We do NOT detect distribution shift, based on the p-value above\n",
      "We do NOT detect distribution shift, based on the p-value above\n",
      "We do NOT detect distribution shift, based on the p-value above\n",
      "We do NOT detect distribution shift, based on the p-value above\n",
      "We do NOT detect distribution shift, based on the p-value above\n",
      "We do NOT detect distribution shift, based on the p-value above\n",
      "We do NOT detect distribution shift, based on the p-value above\n",
      "We do NOT detect distribution shift, based on the p-value above\n",
      "We do NOT detect distribution shift, based on the p-value above\n",
      "We do NOT detect distribution shift, based on the p-value above\n",
      "We do NOT detect distribution shift, based on the p-value above\n",
      "We do NOT detect distribution shift, based on the p-value above\n",
      "We do NOT detect distribution shift, based on the p-value above\n",
      "We do NOT detect distribution shift, based on the p-value above\n",
      "We do NOT detect distribution shift, based on the p-value above\n",
      "We do NOT detect distribution shift, based on the p-value above\n",
      "We do NOT detect distribution shift, based on the p-value above\n",
      "We do NOT detect distribution shift, based on the p-value above\n",
      "We do NOT detect distribution shift, based on the p-value above\n",
      "We do NOT detect distribution shift, based on the p-value above\n",
      "We do NOT detect distribution shift, based on the p-value above\n",
      "We do NOT detect distribution shift, based on the p-value above\n",
      "We do NOT detect distribution shift, based on the p-value above\n",
      "We do NOT detect distribution shift, based on the p-value above\n",
      "We do NOT detect distribution shift, based on the p-value above\n",
      "We do NOT detect distribution shift, based on the p-value above\n",
      "We do NOT detect distribution shift, based on the p-value above\n",
      "We do NOT detect distribution shift, based on the p-value above\n",
      "We do NOT detect distribution shift, based on the p-value above\n",
      "We do NOT detect distribution shift, based on the p-value above\n",
      "We do NOT detect distribution shift, based on the p-value above\n",
      "We do NOT detect distribution shift, based on the p-value above\n",
      "We do NOT detect distribution shift, based on the p-value above\n",
      "We do NOT detect distribution shift, based on the p-value above\n",
      "We do NOT detect distribution shift, based on the p-value above\n",
      "We do NOT detect distribution shift, based on the p-value above\n",
      "We do NOT detect distribution shift, based on the p-value above\n",
      "We do NOT detect distribution shift, based on the p-value above\n",
      "We do NOT detect distribution shift, based on the p-value above\n",
      "We do NOT detect distribution shift, based on the p-value above\n",
      "We do NOT detect distribution shift, based on the p-value above\n",
      "We do NOT detect distribution shift, based on the p-value above\n",
      "We do NOT detect distribution shift, based on the p-value above\n",
      "We do NOT detect distribution shift, based on the p-value above\n",
      "We do NOT detect distribution shift, based on the p-value above\n",
      "We do NOT detect distribution shift, based on the p-value above\n",
      "We do NOT detect distribution shift, based on the p-value above\n",
      "We do NOT detect distribution shift, based on the p-value above\n",
      "We do NOT detect distribution shift, based on the p-value above\n",
      "We do NOT detect distribution shift, based on the p-value above\n",
      "We do NOT detect distribution shift, based on the p-value above\n",
      "We do NOT detect distribution shift, based on the p-value above\n",
      "We do NOT detect distribution shift, based on the p-value above\n",
      "We do NOT detect distribution shift, based on the p-value above\n",
      "We do NOT detect distribution shift, based on the p-value above\n",
      "We do NOT detect distribution shift, based on the p-value above\n",
      "We do NOT detect distribution shift, based on the p-value above\n",
      "We do NOT detect distribution shift, based on the p-value above\n",
      "We do NOT detect distribution shift, based on the p-value above\n",
      "We detect distribution shift, based on the p-value above\n",
      "We do NOT detect distribution shift, based on the p-value above\n",
      "We do NOT detect distribution shift, based on the p-value above\n",
      "We do NOT detect distribution shift, based on the p-value above\n",
      "We do NOT detect distribution shift, based on the p-value above\n",
      "We do NOT detect distribution shift, based on the p-value above\n",
      "We do NOT detect distribution shift, based on the p-value above\n",
      "We do NOT detect distribution shift, based on the p-value above\n",
      "We do NOT detect distribution shift, based on the p-value above\n",
      "We do NOT detect distribution shift, based on the p-value above\n",
      "We do NOT detect distribution shift, based on the p-value above\n",
      "We do NOT detect distribution shift, based on the p-value above\n",
      "We do NOT detect distribution shift, based on the p-value above\n",
      "We do NOT detect distribution shift, based on the p-value above\n",
      "We do NOT detect distribution shift, based on the p-value above\n",
      "We do NOT detect distribution shift, based on the p-value above\n",
      "We do NOT detect distribution shift, based on the p-value above\n",
      "We do NOT detect distribution shift, based on the p-value above\n",
      "We do NOT detect distribution shift, based on the p-value above\n",
      "We do NOT detect distribution shift, based on the p-value above\n",
      "We do NOT detect distribution shift, based on the p-value above\n",
      "We do NOT detect distribution shift, based on the p-value above\n",
      "We do NOT detect distribution shift, based on the p-value above\n",
      "We do NOT detect distribution shift, based on the p-value above\n",
      "We do NOT detect distribution shift, based on the p-value above\n",
      "We do NOT detect distribution shift, based on the p-value above\n",
      "We do NOT detect distribution shift, based on the p-value above\n",
      "We do NOT detect distribution shift, based on the p-value above\n",
      "We do NOT detect distribution shift, based on the p-value above\n",
      "We do NOT detect distribution shift, based on the p-value above\n",
      "We do NOT detect distribution shift, based on the p-value above\n",
      "We do NOT detect distribution shift, based on the p-value above\n",
      "We do NOT detect distribution shift, based on the p-value above\n",
      "We do NOT detect distribution shift, based on the p-value above\n",
      "We do NOT detect distribution shift, based on the p-value above\n",
      "We do NOT detect distribution shift, based on the p-value above\n",
      "We do NOT detect distribution shift, based on the p-value above\n",
      "We do NOT detect distribution shift, based on the p-value above\n",
      "We do NOT detect distribution shift, based on the p-value above\n",
      "We do NOT detect distribution shift, based on the p-value above\n",
      "We do NOT detect distribution shift, based on the p-value above\n",
      "We do NOT detect distribution shift, based on the p-value above\n",
      "We do NOT detect distribution shift, based on the p-value above\n",
      "We do NOT detect distribution shift, based on the p-value above\n",
      "We do NOT detect distribution shift, based on the p-value above\n",
      "We do NOT detect distribution shift, based on the p-value above\n",
      "We do NOT detect distribution shift, based on the p-value above\n",
      "We do NOT detect distribution shift, based on the p-value above\n",
      "We do NOT detect distribution shift, based on the p-value above\n",
      "We do NOT detect distribution shift, based on the p-value above\n",
      "We do NOT detect distribution shift, based on the p-value above\n",
      "We do NOT detect distribution shift, based on the p-value above\n",
      "We do NOT detect distribution shift, based on the p-value above\n",
      "We do NOT detect distribution shift, based on the p-value above\n",
      "We detect distribution shift, based on the p-value above\n",
      "We do NOT detect distribution shift, based on the p-value above\n",
      "We do NOT detect distribution shift, based on the p-value above\n",
      "We do NOT detect distribution shift, based on the p-value above\n",
      "We do NOT detect distribution shift, based on the p-value above\n",
      "We do NOT detect distribution shift, based on the p-value above\n",
      "We do NOT detect distribution shift, based on the p-value above\n",
      "We do NOT detect distribution shift, based on the p-value above\n",
      "We do NOT detect distribution shift, based on the p-value above\n",
      "We do NOT detect distribution shift, based on the p-value above\n",
      "We do NOT detect distribution shift, based on the p-value above\n",
      "We do NOT detect distribution shift, based on the p-value above\n",
      "We do NOT detect distribution shift, based on the p-value above\n",
      "We do NOT detect distribution shift, based on the p-value above\n",
      "We do NOT detect distribution shift, based on the p-value above\n",
      "We do NOT detect distribution shift, based on the p-value above\n",
      "We do NOT detect distribution shift, based on the p-value above\n",
      "We do NOT detect distribution shift, based on the p-value above\n",
      "We do NOT detect distribution shift, based on the p-value above\n",
      "We do NOT detect distribution shift, based on the p-value above\n",
      "We do NOT detect distribution shift, based on the p-value above\n",
      "We do NOT detect distribution shift, based on the p-value above\n",
      "We do NOT detect distribution shift, based on the p-value above\n",
      "We do NOT detect distribution shift, based on the p-value above\n",
      "We do NOT detect distribution shift, based on the p-value above\n",
      "We do NOT detect distribution shift, based on the p-value above\n",
      "We do NOT detect distribution shift, based on the p-value above\n",
      "We do NOT detect distribution shift, based on the p-value above\n",
      "We do NOT detect distribution shift, based on the p-value above\n",
      "We detect distribution shift, based on the p-value above\n",
      "We do NOT detect distribution shift, based on the p-value above\n",
      "We do NOT detect distribution shift, based on the p-value above\n",
      "We do NOT detect distribution shift, based on the p-value above\n",
      "We do NOT detect distribution shift, based on the p-value above\n",
      "We do NOT detect distribution shift, based on the p-value above\n",
      "We do NOT detect distribution shift, based on the p-value above\n",
      "We do NOT detect distribution shift, based on the p-value above\n",
      "We do NOT detect distribution shift, based on the p-value above\n",
      "We do NOT detect distribution shift, based on the p-value above\n",
      "We do NOT detect distribution shift, based on the p-value above\n",
      "We do NOT detect distribution shift, based on the p-value above\n",
      "We do NOT detect distribution shift, based on the p-value above\n",
      "We do NOT detect distribution shift, based on the p-value above\n",
      "We do NOT detect distribution shift, based on the p-value above\n",
      "We detect distribution shift, based on the p-value above\n",
      "We do NOT detect distribution shift, based on the p-value above\n",
      "We do NOT detect distribution shift, based on the p-value above\n",
      "We do NOT detect distribution shift, based on the p-value above\n",
      "We do NOT detect distribution shift, based on the p-value above\n",
      "We do NOT detect distribution shift, based on the p-value above\n",
      "We do NOT detect distribution shift, based on the p-value above\n",
      "We do NOT detect distribution shift, based on the p-value above\n",
      "We do NOT detect distribution shift, based on the p-value above\n",
      "We do NOT detect distribution shift, based on the p-value above\n",
      "We do NOT detect distribution shift, based on the p-value above\n",
      "We do NOT detect distribution shift, based on the p-value above\n",
      "We do NOT detect distribution shift, based on the p-value above\n",
      "We do NOT detect distribution shift, based on the p-value above\n",
      "We do NOT detect distribution shift, based on the p-value above\n",
      "We do NOT detect distribution shift, based on the p-value above\n",
      "We do NOT detect distribution shift, based on the p-value above\n",
      "We do NOT detect distribution shift, based on the p-value above\n",
      "We do NOT detect distribution shift, based on the p-value above\n",
      "We do NOT detect distribution shift, based on the p-value above\n",
      "We do NOT detect distribution shift, based on the p-value above\n",
      "We do NOT detect distribution shift, based on the p-value above\n",
      "We do NOT detect distribution shift, based on the p-value above\n",
      "We do NOT detect distribution shift, based on the p-value above\n",
      "We do NOT detect distribution shift, based on the p-value above\n",
      "We do NOT detect distribution shift, based on the p-value above\n",
      "We do NOT detect distribution shift, based on the p-value above\n",
      "We do NOT detect distribution shift, based on the p-value above\n",
      "We do NOT detect distribution shift, based on the p-value above\n",
      "We do NOT detect distribution shift, based on the p-value above\n",
      "We do NOT detect distribution shift, based on the p-value above\n",
      "We do NOT detect distribution shift, based on the p-value above\n",
      "We do NOT detect distribution shift, based on the p-value above\n",
      "We detect distribution shift, based on the p-value above\n",
      "We do NOT detect distribution shift, based on the p-value above\n",
      "We do NOT detect distribution shift, based on the p-value above\n",
      "We do NOT detect distribution shift, based on the p-value above\n",
      "We do NOT detect distribution shift, based on the p-value above\n",
      "We do NOT detect distribution shift, based on the p-value above\n",
      "We do NOT detect distribution shift, based on the p-value above\n",
      "We do NOT detect distribution shift, based on the p-value above\n",
      "We do NOT detect distribution shift, based on the p-value above\n",
      "We do NOT detect distribution shift, based on the p-value above\n",
      "We do NOT detect distribution shift, based on the p-value above\n",
      "We do NOT detect distribution shift, based on the p-value above\n",
      "We do NOT detect distribution shift, based on the p-value above\n",
      "We do NOT detect distribution shift, based on the p-value above\n",
      "We do NOT detect distribution shift, based on the p-value above\n",
      "We do NOT detect distribution shift, based on the p-value above\n",
      "We do NOT detect distribution shift, based on the p-value above\n",
      "We do NOT detect distribution shift, based on the p-value above\n",
      "We do NOT detect distribution shift, based on the p-value above\n",
      "We do NOT detect distribution shift, based on the p-value above\n",
      "We do NOT detect distribution shift, based on the p-value above\n",
      "We do NOT detect distribution shift, based on the p-value above\n",
      "We do NOT detect distribution shift, based on the p-value above\n",
      "We do NOT detect distribution shift, based on the p-value above\n",
      "We do NOT detect distribution shift, based on the p-value above\n",
      "We do NOT detect distribution shift, based on the p-value above\n",
      "We do NOT detect distribution shift, based on the p-value above\n",
      "We do NOT detect distribution shift, based on the p-value above\n",
      "We do NOT detect distribution shift, based on the p-value above\n",
      "We do NOT detect distribution shift, based on the p-value above\n",
      "We do NOT detect distribution shift, based on the p-value above\n",
      "We do NOT detect distribution shift, based on the p-value above\n",
      "We do NOT detect distribution shift, based on the p-value above\n",
      "We do NOT detect distribution shift, based on the p-value above\n",
      "We do NOT detect distribution shift, based on the p-value above\n",
      "We do NOT detect distribution shift, based on the p-value above\n",
      "We do NOT detect distribution shift, based on the p-value above\n",
      "We do NOT detect distribution shift, based on the p-value above\n",
      "We do NOT detect distribution shift, based on the p-value above\n",
      "We do NOT detect distribution shift, based on the p-value above\n",
      "We do NOT detect distribution shift, based on the p-value above\n",
      "We do NOT detect distribution shift, based on the p-value above\n",
      "We do NOT detect distribution shift, based on the p-value above\n",
      "We do NOT detect distribution shift, based on the p-value above\n",
      "We do NOT detect distribution shift, based on the p-value above\n",
      "We do NOT detect distribution shift, based on the p-value above\n",
      "We do NOT detect distribution shift, based on the p-value above\n",
      "We do NOT detect distribution shift, based on the p-value above\n",
      "We do NOT detect distribution shift, based on the p-value above\n",
      "We do NOT detect distribution shift, based on the p-value above\n",
      "We do NOT detect distribution shift, based on the p-value above\n",
      "We do NOT detect distribution shift, based on the p-value above\n",
      "We do NOT detect distribution shift, based on the p-value above\n",
      "We do NOT detect distribution shift, based on the p-value above\n",
      "We do NOT detect distribution shift, based on the p-value above\n",
      "We do NOT detect distribution shift, based on the p-value above\n",
      "We do NOT detect distribution shift, based on the p-value above\n",
      "We do NOT detect distribution shift, based on the p-value above\n",
      "We do NOT detect distribution shift, based on the p-value above\n",
      "We do NOT detect distribution shift, based on the p-value above\n",
      "We do NOT detect distribution shift, based on the p-value above\n",
      "We do NOT detect distribution shift, based on the p-value above\n",
      "We do NOT detect distribution shift, based on the p-value above\n",
      "We do NOT detect distribution shift, based on the p-value above\n",
      "We do NOT detect distribution shift, based on the p-value above\n",
      "We do NOT detect distribution shift, based on the p-value above\n",
      "We do NOT detect distribution shift, based on the p-value above\n",
      "We do NOT detect distribution shift, based on the p-value above\n",
      "We do NOT detect distribution shift, based on the p-value above\n",
      "We do NOT detect distribution shift, based on the p-value above\n",
      "We detect distribution shift, based on the p-value above\n",
      "We do NOT detect distribution shift, based on the p-value above\n",
      "We do NOT detect distribution shift, based on the p-value above\n",
      "We do NOT detect distribution shift, based on the p-value above\n",
      "We do NOT detect distribution shift, based on the p-value above\n",
      "We do NOT detect distribution shift, based on the p-value above\n",
      "We do NOT detect distribution shift, based on the p-value above\n",
      "We do NOT detect distribution shift, based on the p-value above\n",
      "We do NOT detect distribution shift, based on the p-value above\n",
      "We do NOT detect distribution shift, based on the p-value above\n",
      "We do NOT detect distribution shift, based on the p-value above\n",
      "We do NOT detect distribution shift, based on the p-value above\n",
      "We do NOT detect distribution shift, based on the p-value above\n",
      "We do NOT detect distribution shift, based on the p-value above\n",
      "We do NOT detect distribution shift, based on the p-value above\n",
      "We do NOT detect distribution shift, based on the p-value above\n",
      "We do NOT detect distribution shift, based on the p-value above\n",
      "We do NOT detect distribution shift, based on the p-value above\n",
      "We do NOT detect distribution shift, based on the p-value above\n",
      "We do NOT detect distribution shift, based on the p-value above\n",
      "We do NOT detect distribution shift, based on the p-value above\n",
      "We do NOT detect distribution shift, based on the p-value above\n",
      "We do NOT detect distribution shift, based on the p-value above\n",
      "We do NOT detect distribution shift, based on the p-value above\n",
      "We do NOT detect distribution shift, based on the p-value above\n",
      "We do NOT detect distribution shift, based on the p-value above\n",
      "We detect distribution shift, based on the p-value above\n",
      "We do NOT detect distribution shift, based on the p-value above\n",
      "We do NOT detect distribution shift, based on the p-value above\n",
      "We do NOT detect distribution shift, based on the p-value above\n",
      "We do NOT detect distribution shift, based on the p-value above\n",
      "We do NOT detect distribution shift, based on the p-value above\n",
      "We do NOT detect distribution shift, based on the p-value above\n",
      "We do NOT detect distribution shift, based on the p-value above\n",
      "We do NOT detect distribution shift, based on the p-value above\n",
      "We do NOT detect distribution shift, based on the p-value above\n",
      "We do NOT detect distribution shift, based on the p-value above\n",
      "We do NOT detect distribution shift, based on the p-value above\n",
      "We do NOT detect distribution shift, based on the p-value above\n",
      "We do NOT detect distribution shift, based on the p-value above\n",
      "We do NOT detect distribution shift, based on the p-value above\n",
      "We do NOT detect distribution shift, based on the p-value above\n",
      "We do NOT detect distribution shift, based on the p-value above\n",
      "We do NOT detect distribution shift, based on the p-value above\n",
      "We do NOT detect distribution shift, based on the p-value above\n",
      "We do NOT detect distribution shift, based on the p-value above\n",
      "We do NOT detect distribution shift, based on the p-value above\n",
      "We do NOT detect distribution shift, based on the p-value above\n",
      "We do NOT detect distribution shift, based on the p-value above\n",
      "We do NOT detect distribution shift, based on the p-value above\n",
      "We do NOT detect distribution shift, based on the p-value above\n",
      "We do NOT detect distribution shift, based on the p-value above\n",
      "We do NOT detect distribution shift, based on the p-value above\n",
      "We do NOT detect distribution shift, based on the p-value above\n",
      "We do NOT detect distribution shift, based on the p-value above\n",
      "We do NOT detect distribution shift, based on the p-value above\n",
      "We do NOT detect distribution shift, based on the p-value above\n",
      "We do NOT detect distribution shift, based on the p-value above\n",
      "We do NOT detect distribution shift, based on the p-value above\n",
      "We do NOT detect distribution shift, based on the p-value above\n",
      "We do NOT detect distribution shift, based on the p-value above\n",
      "We do NOT detect distribution shift, based on the p-value above\n",
      "We do NOT detect distribution shift, based on the p-value above\n",
      "We do NOT detect distribution shift, based on the p-value above\n",
      "We do NOT detect distribution shift, based on the p-value above\n",
      "We do NOT detect distribution shift, based on the p-value above\n",
      "We do NOT detect distribution shift, based on the p-value above\n",
      "We do NOT detect distribution shift, based on the p-value above\n",
      "We do NOT detect distribution shift, based on the p-value above\n",
      "We do NOT detect distribution shift, based on the p-value above\n",
      "We do NOT detect distribution shift, based on the p-value above\n",
      "We do NOT detect distribution shift, based on the p-value above\n",
      "We do NOT detect distribution shift, based on the p-value above\n",
      "We do NOT detect distribution shift, based on the p-value above\n",
      "We do NOT detect distribution shift, based on the p-value above\n",
      "We do NOT detect distribution shift, based on the p-value above\n",
      "We do NOT detect distribution shift, based on the p-value above\n",
      "We do NOT detect distribution shift, based on the p-value above\n",
      "We do NOT detect distribution shift, based on the p-value above\n",
      "We do NOT detect distribution shift, based on the p-value above\n",
      "We detect distribution shift, based on the p-value above\n",
      "We do NOT detect distribution shift, based on the p-value above\n",
      "We do NOT detect distribution shift, based on the p-value above\n",
      "We do NOT detect distribution shift, based on the p-value above\n",
      "We do NOT detect distribution shift, based on the p-value above\n",
      "We do NOT detect distribution shift, based on the p-value above\n",
      "We do NOT detect distribution shift, based on the p-value above\n",
      "We do NOT detect distribution shift, based on the p-value above\n",
      "We do NOT detect distribution shift, based on the p-value above\n",
      "We do NOT detect distribution shift, based on the p-value above\n",
      "We do NOT detect distribution shift, based on the p-value above\n",
      "We do NOT detect distribution shift, based on the p-value above\n",
      "We do NOT detect distribution shift, based on the p-value above\n",
      "We do NOT detect distribution shift, based on the p-value above\n",
      "We do NOT detect distribution shift, based on the p-value above\n",
      "We do NOT detect distribution shift, based on the p-value above\n",
      "We detect distribution shift, based on the p-value above\n",
      "We do NOT detect distribution shift, based on the p-value above\n",
      "We do NOT detect distribution shift, based on the p-value above\n",
      "We do NOT detect distribution shift, based on the p-value above\n",
      "We do NOT detect distribution shift, based on the p-value above\n",
      "We do NOT detect distribution shift, based on the p-value above\n",
      "We do NOT detect distribution shift, based on the p-value above\n",
      "We do NOT detect distribution shift, based on the p-value above\n",
      "We do NOT detect distribution shift, based on the p-value above\n",
      "We do NOT detect distribution shift, based on the p-value above\n",
      "We do NOT detect distribution shift, based on the p-value above\n",
      "We do NOT detect distribution shift, based on the p-value above\n",
      "We do NOT detect distribution shift, based on the p-value above\n",
      "We do NOT detect distribution shift, based on the p-value above\n",
      "We do NOT detect distribution shift, based on the p-value above\n",
      "We do NOT detect distribution shift, based on the p-value above\n",
      "We do NOT detect distribution shift, based on the p-value above\n",
      "We do NOT detect distribution shift, based on the p-value above\n",
      "We do NOT detect distribution shift, based on the p-value above\n",
      "We do NOT detect distribution shift, based on the p-value above\n",
      "We do NOT detect distribution shift, based on the p-value above\n",
      "We do NOT detect distribution shift, based on the p-value above\n",
      "We do NOT detect distribution shift, based on the p-value above\n",
      "We do NOT detect distribution shift, based on the p-value above\n",
      "We do NOT detect distribution shift, based on the p-value above\n",
      "We do NOT detect distribution shift, based on the p-value above\n",
      "We do NOT detect distribution shift, based on the p-value above\n",
      "We do NOT detect distribution shift, based on the p-value above\n",
      "We do NOT detect distribution shift, based on the p-value above\n",
      "We do NOT detect distribution shift, based on the p-value above\n",
      "We detect distribution shift, based on the p-value above\n",
      "We do NOT detect distribution shift, based on the p-value above\n",
      "We do NOT detect distribution shift, based on the p-value above\n",
      "We do NOT detect distribution shift, based on the p-value above\n",
      "We do NOT detect distribution shift, based on the p-value above\n",
      "We do NOT detect distribution shift, based on the p-value above\n",
      "We do NOT detect distribution shift, based on the p-value above\n",
      "We do NOT detect distribution shift, based on the p-value above\n",
      "We do NOT detect distribution shift, based on the p-value above\n",
      "We do NOT detect distribution shift, based on the p-value above\n",
      "We do NOT detect distribution shift, based on the p-value above\n",
      "We do NOT detect distribution shift, based on the p-value above\n",
      "We do NOT detect distribution shift, based on the p-value above\n",
      "We do NOT detect distribution shift, based on the p-value above\n",
      "We do NOT detect distribution shift, based on the p-value above\n",
      "We do NOT detect distribution shift, based on the p-value above\n",
      "We do NOT detect distribution shift, based on the p-value above\n",
      "We do NOT detect distribution shift, based on the p-value above\n",
      "We detect distribution shift, based on the p-value above\n",
      "We do NOT detect distribution shift, based on the p-value above\n",
      "We do NOT detect distribution shift, based on the p-value above\n",
      "We do NOT detect distribution shift, based on the p-value above\n",
      "We do NOT detect distribution shift, based on the p-value above\n",
      "We do NOT detect distribution shift, based on the p-value above\n",
      "We do NOT detect distribution shift, based on the p-value above\n",
      "We do NOT detect distribution shift, based on the p-value above\n",
      "We do NOT detect distribution shift, based on the p-value above\n",
      "We do NOT detect distribution shift, based on the p-value above\n",
      "We do NOT detect distribution shift, based on the p-value above\n",
      "We do NOT detect distribution shift, based on the p-value above\n",
      "We do NOT detect distribution shift, based on the p-value above\n",
      "We do NOT detect distribution shift, based on the p-value above\n",
      "We do NOT detect distribution shift, based on the p-value above\n",
      "We do NOT detect distribution shift, based on the p-value above\n",
      "We do NOT detect distribution shift, based on the p-value above\n",
      "We do NOT detect distribution shift, based on the p-value above\n",
      "We do NOT detect distribution shift, based on the p-value above\n",
      "We do NOT detect distribution shift, based on the p-value above\n",
      "We do NOT detect distribution shift, based on the p-value above\n",
      "We do NOT detect distribution shift, based on the p-value above\n",
      "We do NOT detect distribution shift, based on the p-value above\n",
      "We do NOT detect distribution shift, based on the p-value above\n",
      "We do NOT detect distribution shift, based on the p-value above\n",
      "We do NOT detect distribution shift, based on the p-value above\n",
      "We do NOT detect distribution shift, based on the p-value above\n",
      "We do NOT detect distribution shift, based on the p-value above\n",
      "We do NOT detect distribution shift, based on the p-value above\n",
      "We do NOT detect distribution shift, based on the p-value above\n",
      "We do NOT detect distribution shift, based on the p-value above\n",
      "We do NOT detect distribution shift, based on the p-value above\n",
      "We do NOT detect distribution shift, based on the p-value above\n",
      "We do NOT detect distribution shift, based on the p-value above\n",
      "We do NOT detect distribution shift, based on the p-value above\n",
      "We do NOT detect distribution shift, based on the p-value above\n",
      "We do NOT detect distribution shift, based on the p-value above\n",
      "We do NOT detect distribution shift, based on the p-value above\n",
      "We do NOT detect distribution shift, based on the p-value above\n",
      "We detect distribution shift, based on the p-value above\n",
      "We do NOT detect distribution shift, based on the p-value above\n",
      "We detect distribution shift, based on the p-value above\n",
      "We do NOT detect distribution shift, based on the p-value above\n",
      "We do NOT detect distribution shift, based on the p-value above\n",
      "We do NOT detect distribution shift, based on the p-value above\n",
      "We do NOT detect distribution shift, based on the p-value above\n",
      "We detect distribution shift, based on the p-value above\n",
      "We do NOT detect distribution shift, based on the p-value above\n",
      "We do NOT detect distribution shift, based on the p-value above\n",
      "We detect distribution shift, based on the p-value above\n",
      "We do NOT detect distribution shift, based on the p-value above\n",
      "We do NOT detect distribution shift, based on the p-value above\n",
      "We do NOT detect distribution shift, based on the p-value above\n",
      "We do NOT detect distribution shift, based on the p-value above\n",
      "We do NOT detect distribution shift, based on the p-value above\n",
      "We do NOT detect distribution shift, based on the p-value above\n",
      "We do NOT detect distribution shift, based on the p-value above\n",
      "We detect distribution shift, based on the p-value above\n",
      "We do NOT detect distribution shift, based on the p-value above\n",
      "We do NOT detect distribution shift, based on the p-value above\n",
      "We do NOT detect distribution shift, based on the p-value above\n",
      "We do NOT detect distribution shift, based on the p-value above\n",
      "We do NOT detect distribution shift, based on the p-value above\n",
      "We do NOT detect distribution shift, based on the p-value above\n",
      "We do NOT detect distribution shift, based on the p-value above\n",
      "We do NOT detect distribution shift, based on the p-value above\n",
      "We do NOT detect distribution shift, based on the p-value above\n",
      "We do NOT detect distribution shift, based on the p-value above\n",
      "We do NOT detect distribution shift, based on the p-value above\n",
      "We do NOT detect distribution shift, based on the p-value above\n",
      "We do NOT detect distribution shift, based on the p-value above\n",
      "We do NOT detect distribution shift, based on the p-value above\n",
      "We do NOT detect distribution shift, based on the p-value above\n",
      "We do NOT detect distribution shift, based on the p-value above\n",
      "We do NOT detect distribution shift, based on the p-value above\n",
      "We do NOT detect distribution shift, based on the p-value above\n",
      "We do NOT detect distribution shift, based on the p-value above\n",
      "We do NOT detect distribution shift, based on the p-value above\n",
      "We do NOT detect distribution shift, based on the p-value above\n",
      "We do NOT detect distribution shift, based on the p-value above\n",
      "We do NOT detect distribution shift, based on the p-value above\n",
      "We do NOT detect distribution shift, based on the p-value above\n",
      "We do NOT detect distribution shift, based on the p-value above\n",
      "We do NOT detect distribution shift, based on the p-value above\n",
      "We do NOT detect distribution shift, based on the p-value above\n",
      "We do NOT detect distribution shift, based on the p-value above\n",
      "We do NOT detect distribution shift, based on the p-value above\n",
      "We do NOT detect distribution shift, based on the p-value above\n",
      "We do NOT detect distribution shift, based on the p-value above\n",
      "We do NOT detect distribution shift, based on the p-value above\n",
      "We do NOT detect distribution shift, based on the p-value above\n",
      "We do NOT detect distribution shift, based on the p-value above\n",
      "We do NOT detect distribution shift, based on the p-value above\n",
      "We do NOT detect distribution shift, based on the p-value above\n",
      "We do NOT detect distribution shift, based on the p-value above\n",
      "We do NOT detect distribution shift, based on the p-value above\n",
      "We do NOT detect distribution shift, based on the p-value above\n",
      "We do NOT detect distribution shift, based on the p-value above\n",
      "We do NOT detect distribution shift, based on the p-value above\n",
      "We do NOT detect distribution shift, based on the p-value above\n",
      "We do NOT detect distribution shift, based on the p-value above\n",
      "We detect distribution shift, based on the p-value above\n",
      "We do NOT detect distribution shift, based on the p-value above\n",
      "We do NOT detect distribution shift, based on the p-value above\n",
      "We do NOT detect distribution shift, based on the p-value above\n",
      "We do NOT detect distribution shift, based on the p-value above\n",
      "We do NOT detect distribution shift, based on the p-value above\n",
      "We do NOT detect distribution shift, based on the p-value above\n",
      "We do NOT detect distribution shift, based on the p-value above\n",
      "We do NOT detect distribution shift, based on the p-value above\n",
      "We do NOT detect distribution shift, based on the p-value above\n",
      "We do NOT detect distribution shift, based on the p-value above\n",
      "We do NOT detect distribution shift, based on the p-value above\n",
      "We do NOT detect distribution shift, based on the p-value above\n",
      "We do NOT detect distribution shift, based on the p-value above\n",
      "We do NOT detect distribution shift, based on the p-value above\n",
      "We do NOT detect distribution shift, based on the p-value above\n",
      "We do NOT detect distribution shift, based on the p-value above\n",
      "We do NOT detect distribution shift, based on the p-value above\n",
      "We do NOT detect distribution shift, based on the p-value above\n",
      "We do NOT detect distribution shift, based on the p-value above\n",
      "We do NOT detect distribution shift, based on the p-value above\n",
      "We do NOT detect distribution shift, based on the p-value above\n",
      "We do NOT detect distribution shift, based on the p-value above\n",
      "We do NOT detect distribution shift, based on the p-value above\n",
      "We do NOT detect distribution shift, based on the p-value above\n",
      "We do NOT detect distribution shift, based on the p-value above\n",
      "We do NOT detect distribution shift, based on the p-value above\n",
      "We do NOT detect distribution shift, based on the p-value above\n",
      "We do NOT detect distribution shift, based on the p-value above\n",
      "We do NOT detect distribution shift, based on the p-value above\n",
      "We do NOT detect distribution shift, based on the p-value above\n",
      "We do NOT detect distribution shift, based on the p-value above\n",
      "We do NOT detect distribution shift, based on the p-value above\n",
      "We do NOT detect distribution shift, based on the p-value above\n",
      "We do NOT detect distribution shift, based on the p-value above\n",
      "We do NOT detect distribution shift, based on the p-value above\n",
      "We do NOT detect distribution shift, based on the p-value above\n",
      "We do NOT detect distribution shift, based on the p-value above\n",
      "We do NOT detect distribution shift, based on the p-value above\n",
      "We detect distribution shift, based on the p-value above\n",
      "We do NOT detect distribution shift, based on the p-value above\n",
      "We do NOT detect distribution shift, based on the p-value above\n",
      "We do NOT detect distribution shift, based on the p-value above\n",
      "We do NOT detect distribution shift, based on the p-value above\n",
      "We do NOT detect distribution shift, based on the p-value above\n",
      "We do NOT detect distribution shift, based on the p-value above\n",
      "We do NOT detect distribution shift, based on the p-value above\n",
      "We do NOT detect distribution shift, based on the p-value above\n",
      "We do NOT detect distribution shift, based on the p-value above\n",
      "We do NOT detect distribution shift, based on the p-value above\n",
      "We do NOT detect distribution shift, based on the p-value above\n",
      "We do NOT detect distribution shift, based on the p-value above\n",
      "We do NOT detect distribution shift, based on the p-value above\n",
      "We do NOT detect distribution shift, based on the p-value above\n",
      "We do NOT detect distribution shift, based on the p-value above\n",
      "We do NOT detect distribution shift, based on the p-value above\n",
      "We do NOT detect distribution shift, based on the p-value above\n",
      "We do NOT detect distribution shift, based on the p-value above\n",
      "We do NOT detect distribution shift, based on the p-value above\n",
      "We do NOT detect distribution shift, based on the p-value above\n",
      "We do NOT detect distribution shift, based on the p-value above\n",
      "We do NOT detect distribution shift, based on the p-value above\n",
      "We do NOT detect distribution shift, based on the p-value above\n",
      "We do NOT detect distribution shift, based on the p-value above\n",
      "We do NOT detect distribution shift, based on the p-value above\n",
      "We do NOT detect distribution shift, based on the p-value above\n",
      "We do NOT detect distribution shift, based on the p-value above\n",
      "We detect distribution shift 19 times out of 604 samples\n"
     ]
    }
   ],
   "source": [
    "e = 0 # We can choose any sample from the shift dataset\n",
    "epsilon = 0.05\n",
    "lambda_y_upper_bound = np.quantile(lambdas_i, ((1-epsilon)*(len(lambdas_i) + 1) - 1)/len(lambdas_i))\n",
    "print('The quantile {} of the calibration set is {}'.format(1-epsilon, lambda_y_upper_bound))\n",
    "count = 0\n",
    "for i in range(len(lambdas_i_shift)):\n",
    "    if lambdas_i_shift[i] > lambda_y_upper_bound:\n",
    "        print(\"We detect distribution shift, based on the p-value above\")\n",
    "        count += 1\n",
    "    else:\n",
    "        print(\"We do NOT detect distribution shift, based on the p-value above\")\n",
    "\n",
    "print(\"We detect distribution shift {} times out of {} samples\".format(count, len(lambdas_i_shift)))"
   ]
  },
  {
   "attachments": {},
   "cell_type": "markdown",
   "metadata": {},
   "source": [
    "We now want to find the values of y that satisfies such bound"
   ]
  },
  {
   "cell_type": "code",
   "execution_count": 84,
   "metadata": {},
   "outputs": [
    {
     "name": "stderr",
     "output_type": "stream",
     "text": [
      "/Users/pablo_1/opt/miniconda3/envs/conformal/lib/python3.10/site-packages/scipy/optimize/_minpack_py.py:175: RuntimeWarning: The iteration is not making good progress, as measured by the \n",
      "  improvement from the last ten iterations.\n",
      "  warnings.warn(msg, RuntimeWarning)\n"
     ]
    }
   ],
   "source": [
    "compute_loss_partial = partial(compute_loss, y_gt = y_shift[e], sigma = sigmas[e], interval_alpha = intervals[e])\n",
    "\n",
    "y_lower_bound = fsolve(lambda x: compute_loss_partial(x) - lambda_y_upper_bound, x0 = y_shift[e]-0.5)\n",
    "y_upper_bound = fsolve(lambda x: compute_loss_partial(x) - lambda_y_upper_bound, x0 = y_shift[e]+0.5)"
   ]
  },
  {
   "attachments": {},
   "cell_type": "markdown",
   "metadata": {},
   "source": [
    "In practice we want to compute, for each value of x in the shifted dataset, the corresponding bounds on y"
   ]
  },
  {
   "cell_type": "code",
   "execution_count": 85,
   "metadata": {},
   "outputs": [],
   "source": [
    "def compute_bounds(lambdas_i, y_shift_gt, lambda_shift, sigma, interval):\n",
    "    \n",
    "    lambda_y_upper_bound = np.quantile(lambdas_i, ((1-epsilon)*(ncal + 1) - 1)/len(lambdas_i))\n",
    "\n",
    "    compute_loss_partial = partial(compute_loss, y_gt = y_shift_gt, sigma = sigma, interval_alpha = interval)\n",
    "\n",
    "    bound0 = fsolve(lambda x: compute_loss_partial(x) - lambda_y_upper_bound, x0 = 0)\n",
    "    for i in range (1000):\n",
    "        x0 = np.random.uniform(-1, 1)\n",
    "        bound1 = fsolve(lambda x: compute_loss_partial(x) - lambda_y_upper_bound, x0 = x0)\n",
    "        if not np.allclose(bound0, bound1):\n",
    "            break\n",
    "    if i == 999:\n",
    "        print('Warning: No bounds found for y_shift_gt = {}'.format(y_shift_gt))\n",
    "        return None, None, None\n",
    "\n",
    "    y_lower_bound, y_upper_bound = np.min([bound0, bound1]), np.max([bound0, bound1])\n",
    "\n",
    "    return y_lower_bound, y_upper_bound, y_shift_gt < y_upper_bound and y_shift_gt > y_lower_bound"
   ]
  },
  {
   "attachments": {},
   "cell_type": "markdown",
   "metadata": {},
   "source": [
    "Now we can check whether the shifted dataset is in the confidence interval of the full conformal model with probability $1-\\epsilon$."
   ]
  },
  {
   "cell_type": "code",
   "execution_count": 86,
   "metadata": {},
   "outputs": [
    {
     "name": "stderr",
     "output_type": "stream",
     "text": [
      "/Users/pablo_1/opt/miniconda3/envs/conformal/lib/python3.10/site-packages/scipy/optimize/_minpack_py.py:175: RuntimeWarning: The iteration is not making good progress, as measured by the \n",
      "  improvement from the last five Jacobian evaluations.\n",
      "  warnings.warn(msg, RuntimeWarning)\n"
     ]
    },
    {
     "name": "stdout",
     "output_type": "stream",
     "text": [
      "For sample 0, is the prediction -0.14277065861237725 within bounds?: False and the bounds are [0.31101393098562424, 0.311626048896959]\n",
      "For sample 1, is the prediction 0.022306074812668886 within bounds?: False and the bounds are [0.814922194860251, 0.8152449080494905]\n",
      "For sample 2, is the prediction 0.06549014535697928 within bounds?: False and the bounds are [-0.5786658794066643, -0.5782390774477388]\n",
      "For sample 3, is the prediction -0.016253317329608663 within bounds?: False and the bounds are [0.5583825592066956, 0.5589314344723375]\n",
      "For sample 4, is the prediction 0.14884641180490288 within bounds?: False and the bounds are [-0.25862734719645514, -0.25826423397937326]\n",
      "For sample 5, is the prediction -0.14662385165000236 within bounds?: False and the bounds are [0.6674730887970011, 0.667483819955549]\n",
      "For sample 6, is the prediction -0.006522230018587094 within bounds?: False and the bounds are [0.429069517991568, 0.43019952262488875]\n",
      "For sample 7, is the prediction -0.05237097340674224 within bounds?: False and the bounds are [0.37831099053727607, 0.3784216934012655]\n",
      "For sample 8, is the prediction 0.2928723975415095 within bounds?: False and the bounds are [-0.2741752782096367, -0.27404814595719146]\n",
      "For sample 9, is the prediction -0.2700746167587925 within bounds?: False and the bounds are [0.48701695927942534, 0.48717784836449557]\n"
     ]
    }
   ],
   "source": [
    "for e in range(10):\n",
    "    y_lower_bound, y_upper_bound, detect = compute_bounds(lambdas_i, y_shift[e], lambdas_i_shift[e], sigmas_shift[e], intervals_shift[e])\n",
    "    print(\"For sample {}, is the prediction {} within bounds?: {} and the bounds are [{}, {}]\".format(e, y_shift[e], detect, y_lower_bound, y_upper_bound))"
   ]
  },
  {
   "cell_type": "code",
   "execution_count": 87,
   "metadata": {},
   "outputs": [
    {
     "name": "stdout",
     "output_type": "stream",
     "text": [
      "The percentage of samples outside the bounds is: 0.046357615894039736\n"
     ]
    }
   ],
   "source": [
    "outside = 0\n",
    "for e in range(len(y_shift)):\n",
    "    y_lower_bound, y_upper_bound, out = compute_bounds(lambdas_i, y_shift[e], lambdas_i_shift[e], sigmas_shift[e], intervals_shift[e])\n",
    "    outside += out\n",
    "print('The percentage of samples outside the bounds is: {}'.format(outside/len(y_shift)))"
   ]
  },
  {
   "cell_type": "code",
   "execution_count": 88,
   "metadata": {},
   "outputs": [
    {
     "data": {
      "text/plain": [
       "28"
      ]
     },
     "execution_count": 88,
     "metadata": {},
     "output_type": "execute_result"
    }
   ],
   "source": [
    "outside"
   ]
  },
  {
   "attachments": {},
   "cell_type": "markdown",
   "metadata": {},
   "source": [
    "We can furthermore compute the p-value of the hypothesis that the shifted dataset is in the confidence interval of the full conformal model, using a binomial test."
   ]
  },
  {
   "cell_type": "code",
   "execution_count": 89,
   "metadata": {},
   "outputs": [
    {
     "name": "stdout",
     "output_type": "stream",
     "text": [
      "p-value:  0.6854028080562641\n",
      "Confidence interval:  ConfidenceInterval(low=0.03314491437811541, high=1.0)\n"
     ]
    }
   ],
   "source": [
    "test = binomtest(k = outside, n = len(y_shift), p = epsilon, alternative='greater')\n",
    "print('p-value: ', test.pvalue)\n",
    "print('Confidence interval: ', test.proportion_ci())"
   ]
  },
  {
   "attachments": {},
   "cell_type": "markdown",
   "metadata": {},
   "source": []
  }
 ],
 "metadata": {
  "kernelspec": {
   "display_name": "conformal",
   "language": "python",
   "name": "python3"
  },
  "language_info": {
   "codemirror_mode": {
    "name": "ipython",
    "version": 3
   },
   "file_extension": ".py",
   "mimetype": "text/x-python",
   "name": "python",
   "nbconvert_exporter": "python",
   "pygments_lexer": "ipython3",
   "version": "3.10.8"
  },
  "orig_nbformat": 4,
  "vscode": {
   "interpreter": {
    "hash": "e4bb16644b7805f2b6da05dca5aae8dc9248070802afd077ed9812795780bba0"
   }
  }
 },
 "nbformat": 4,
 "nbformat_minor": 2
}
