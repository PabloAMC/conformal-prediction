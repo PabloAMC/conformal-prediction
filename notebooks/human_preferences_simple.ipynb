{
 "cells": [
  {
   "cell_type": "code",
   "execution_count": 1,
   "metadata": {},
   "outputs": [],
   "source": [
    "from typing import List, Tuple\n",
    "import random"
   ]
  },
  {
   "attachments": {},
   "cell_type": "markdown",
   "metadata": {},
   "source": [
    "# Conformal prediction from human preferences"
   ]
  },
  {
   "attachments": {},
   "cell_type": "markdown",
   "metadata": {},
   "source": [
    "In this notebook I aim to explore how we can use conformal prediction to make model-free risk-controlled prediction from human preferences. We will start from a simple case study."
   ]
  },
  {
   "attachments": {},
   "cell_type": "markdown",
   "metadata": {},
   "source": [
    "# Simple case"
   ]
  },
  {
   "attachments": {},
   "cell_type": "markdown",
   "metadata": {},
   "source": [
    "For our simple case, we will consider input data of the form $x_1,\\ldots,x_d$ and will define a utility function $U(x_1,\\ldots,x_d) = u$ as a low degree polynomial function. For example a linear function. To make it simpler, we will restrict all the coefficients to be in the range $[-1/d,1/d]$, and the input features to be in the range $[-1,1]$, so that the output is between $-1$ and $1$."
   ]
  },
  {
   "cell_type": "code",
   "execution_count": 2,
   "metadata": {},
   "outputs": [],
   "source": [
    "def clip(x, low, high):\n",
    "    return min(max(x, low), high)\n",
    "def U(x, coefficients):\n",
    "    #coefficients /= np.linalg.norm(coefficients, ord = 1)\n",
    "    return clip(sum(coefficients * x) % 2 - 1 + random.uniform(-0.3, 0.3), -1, 1)"
   ]
  },
  {
   "attachments": {},
   "cell_type": "markdown",
   "metadata": {},
   "source": [
    "Next we need a model to predict the utility function, or in other words, fit a model to replicate the behavior of $U(a)-U(b)$. The output of the model will be a softmax distribution over bins between $-1$ and $1$.\n",
    "We will follow Pytorch Lightning's [LightningModule](https://pytorch-lightning.readthedocs.io/en/stable/common/lightning_module.html) to define our model."
   ]
  },
  {
   "cell_type": "code",
   "execution_count": 3,
   "metadata": {},
   "outputs": [],
   "source": [
    "import pytorch_lightning as pl\n",
    "import torch.nn as nn\n",
    "import torch.nn.functional as F\n",
    "import torch\n",
    "\n",
    "class LitModel(pl.LightningModule):\n",
    "\n",
    "    \"\"\" PyTorch Lightning model.\n",
    "    Outputs the probability that model U(a,b) is in bin i.\n",
    "    \n",
    "    Args:\n",
    "        input_features (int): Number of input features of each of the two inputs.\n",
    "        output_predictions (int): Number of output prediction bins.\n",
    "        hidden_dim (int): Number of hidden units in the hidden layer.\n",
    "        layers (int): Number of hidden layers.\n",
    "    \"\"\"\n",
    "\n",
    "    def __init__(self, input_features, output_predictions, hidden_dim=8, layers = 1):\n",
    "        self.input_features = input_features\n",
    "        self.output_predictions = output_predictions\n",
    "        self.hidden_dim = hidden_dim\n",
    "        self.layers = layers\n",
    "        super().__init__()\n",
    "\n",
    "        self.initial = nn.Sequential(\n",
    "            nn.Linear(2*self.input_features, self.hidden_dim),\n",
    "            nn.ReLU()\n",
    "        )\n",
    "\n",
    "        self.backbone_block = nn.Sequential(\n",
    "            nn.Linear(self.hidden_dim, self.hidden_dim),\n",
    "            nn.ReLU()\n",
    "        )\n",
    "\n",
    "        self.head = nn.Sequential(\n",
    "            nn.Linear(self.hidden_dim, self.output_predictions),\n",
    "            nn.Sigmoid()\n",
    "        )\n",
    "\n",
    "    def forward(self, x):\n",
    "        x = self.initial(x)\n",
    "        for i in range(self.layers):\n",
    "            x = self.backbone_block(x)\n",
    "        x = self.head(x)\n",
    "        return x/(x.sum(dim=1).unsqueeze(1))\n",
    "\n",
    "    def training_step(self, batch, batch_idx):\n",
    "        x, y = batch\n",
    "        y_hat = self(x)\n",
    "        loss = F.l1_loss(y_hat, y)\n",
    "        return loss\n",
    "\n",
    "    def configure_optimizers(self):\n",
    "        return torch.optim.Adam(self.parameters(), lr=0.02)"
   ]
  },
  {
   "cell_type": "code",
   "execution_count": 4,
   "metadata": {},
   "outputs": [],
   "source": [
    "import torch\n",
    "import numpy as np\n",
    "from torch.utils.data import TensorDataset, DataLoader\n",
    "\n",
    "def create_dataloader(x_list: list, y_list: list):\n",
    "    tensor_x = torch.Tensor(np.asarray(x_list)) # transform to torch tensor\n",
    "    tensor_y = torch.Tensor(np.asarray(y_list))\n",
    "    my_dataset = TensorDataset(tensor_x,tensor_y) # create your datset\n",
    "    return DataLoader(my_dataset, num_workers = 4) # create your dataloader\n",
    "\n",
    "def create_predict_dataloader(x_list: list):\n",
    "    tensor_x = torch.Tensor(np.asarray(x_list)) # transform to torch tensor\n",
    "    return DataLoader(tensor_x, num_workers = 4) # create your dataloader"
   ]
  },
  {
   "attachments": {},
   "cell_type": "markdown",
   "metadata": {},
   "source": [
    "The examples will be generated using the following function, which assigns them to bins."
   ]
  },
  {
   "cell_type": "code",
   "execution_count": 5,
   "metadata": {},
   "outputs": [
    {
     "data": {
      "text/plain": [
       "[array([ 0.00076351,  0.01906242,  0.02239481, -0.33327858, -0.23780232,\n",
       "        -0.37198629]),\n",
       " array([-0.16386079,  0.47389309, -0.01138391,  0.40203087, -0.10618092,\n",
       "        -0.06999902]),\n",
       " array([ 0.33511639, -0.11843128, -0.13927999, -0.1190407 , -0.23288039,\n",
       "        -0.13702665]),\n",
       " array([-0.64881198,  0.52190198, -0.25483299,  0.27674408, -0.17055324,\n",
       "        -0.24415843]),\n",
       " array([-0.07679241,  0.36893147,  0.3492154 , -0.72028302,  0.14039207,\n",
       "         0.7326421 ]),\n",
       " array([-0.3000561 ,  0.73631116, -0.1421585 , -0.55122175,  0.24365848,\n",
       "        -0.02189805]),\n",
       " array([-0.1456061 ,  0.05513142, -0.18299701, -0.08446045,  0.09838321,\n",
       "        -0.20147086]),\n",
       " array([ 0.36203249,  0.0376628 , -0.40698167, -0.5283839 ,  0.12446166,\n",
       "        -0.39343586]),\n",
       " array([ 0.27774886,  0.89379991, -0.10315757,  1.06646459, -0.21688524,\n",
       "        -0.63537188]),\n",
       " array([ 0.12235522, -0.31541149, -0.03456388, -0.36951537, -0.34793511,\n",
       "         0.57688398])]"
      ]
     },
     "execution_count": 5,
     "metadata": {},
     "output_type": "execute_result"
    }
   ],
   "source": [
    "# Generate random coefficients\n",
    "#coefficients = np.random.uniform(-1, 1, num_features)\n",
    "coefficients = np.array([0.5, 0.5, .2])\n",
    "\n",
    "def generate_examples(num_examples, num_features, num_bins, coefficients = coefficients):\n",
    "    \"\"\"Generates examples of human preferences\n",
    "    If we decide to use a binary loss function, it is sufficient with num_bins = 2.\n",
    "    \"\"\"\n",
    "\n",
    "    # Generate random inputs\n",
    "    x0 = np.random.normal(loc = 0.15, scale = 0.35, size = (num_examples, num_features))\n",
    "    x1 = np.random.normal(loc = -0.15, scale = 0.35, size = (num_examples, num_features))\n",
    "\n",
    "    # Compute the utility of each input\n",
    "    u = np.array([U(x0[i], coefficients) - U(x1[i], coefficients) for i in range(num_examples)])\n",
    "\n",
    "    # Compute the bin of each input\n",
    "    bins = np.array([np.digitize(u[i], np.linspace(-1, 1, num_bins-1)) for i in range(num_examples)])\n",
    "\n",
    "    # Create the input list\n",
    "    x_list = []\n",
    "    for i in range(num_examples):\n",
    "        x_list.append(np.concatenate((x0[i], x1[i])))\n",
    "\n",
    "    # Create the output list\n",
    "    y_list = []\n",
    "    for i in range(num_examples):\n",
    "        y = np.zeros(num_bins)\n",
    "        y[bins[i]] = 1\n",
    "        y_list.append(y)\n",
    "\n",
    "    return x_list, y_list\n",
    "\n",
    "x, y = generate_examples(10, 3, 20, coefficients = np.array([0.5, 0.5, .2]))\n",
    "x[:10]"
   ]
  },
  {
   "attachments": {},
   "cell_type": "markdown",
   "metadata": {},
   "source": [
    "We can then train a simple model"
   ]
  },
  {
   "cell_type": "code",
   "execution_count": 6,
   "metadata": {},
   "outputs": [
    {
     "name": "stderr",
     "output_type": "stream",
     "text": [
      "GPU available: False, used: False\n",
      "TPU available: False, using: 0 TPU cores\n",
      "IPU available: False, using: 0 IPUs\n",
      "HPU available: False, using: 0 HPUs\n",
      "\n",
      "  | Name           | Type       | Params\n",
      "----------------------------------------------\n",
      "0 | initial        | Sequential | 56    \n",
      "1 | backbone_block | Sequential | 72    \n",
      "2 | head           | Sequential | 180   \n",
      "----------------------------------------------\n",
      "308       Trainable params\n",
      "0         Non-trainable params\n",
      "308       Total params\n",
      "0.001     Total estimated model params size (MB)\n"
     ]
    },
    {
     "data": {
      "application/vnd.jupyter.widget-view+json": {
       "model_id": "1310831c935c4e159bae5c2246cdc8ca",
       "version_major": 2,
       "version_minor": 0
      },
      "text/plain": [
       "Training: 0it [00:00, ?it/s]"
      ]
     },
     "metadata": {},
     "output_type": "display_data"
    },
    {
     "name": "stderr",
     "output_type": "stream",
     "text": [
      "`Trainer.fit` stopped: `max_epochs=5` reached.\n"
     ]
    }
   ],
   "source": [
    "num_examples = 1000\n",
    "num_features = 3\n",
    "num_bins = 20\n",
    "x_list, y_list = generate_examples(num_examples = num_examples, num_features = num_features, num_bins = num_bins)\n",
    "train_loader = create_dataloader(x_list, y_list)\n",
    "predict_loader = create_predict_dataloader(x_list)\n",
    "trainer = pl.Trainer(max_epochs=5)\n",
    "model = LitModel(input_features=num_features, output_predictions=num_bins)\n",
    "\n",
    "trainer.fit(model, train_dataloaders=train_loader)"
   ]
  },
  {
   "attachments": {},
   "cell_type": "markdown",
   "metadata": {},
   "source": [
    "# Conformal prediction"
   ]
  },
  {
   "attachments": {},
   "cell_type": "markdown",
   "metadata": {},
   "source": [
    "Remember that we defined the loss to be\n",
    "$$\n",
    "     \\mathcal{L}(U, a_i,b_i,y_i) =  y_i(U(a_i)-U(b_i)) + (1-y_i)(U(b_i)-U(a_i)),\n",
    "$$\n",
    "for $y_i \\in \\{0,1\\}$ the true preference, and $U$ the learned utility function."
   ]
  },
  {
   "attachments": {},
   "cell_type": "markdown",
   "metadata": {},
   "source": [
    "In the conformal prediction procedure we now follow the following steps:\n",
    "1. We have to define the set $\\mathcal{C}_\\alpha$:\n",
    "$$\n",
    "\\mathcal{C}_\\alpha(a_i,b_i) = \\{u_i = U(a_i)-U(b_i) \\in \\mathbb{R}: \\rho( u_i )\\geq  1-\\alpha \\}\n",
    "$$\n",
    "where $\\rho$ is the cumulative distribution function of the model's output distribution."
   ]
  },
  {
   "cell_type": "code",
   "execution_count": 7,
   "metadata": {},
   "outputs": [],
   "source": [
    "def C(alpha: float, x_list: torch.Tensor):\n",
    "    loader = DataLoader(torch.Tensor(x_list))\n",
    "    predictions = trainer.predict(model,loader)\n",
    "    p = []\n",
    "    for prediction in predictions:\n",
    "        prediction = torch.flatten(prediction)\n",
    "        p.append(torch.where(prediction > alpha, torch.ones_like(prediction), torch.zeros_like(prediction)))\n",
    "    return torch.stack(p)"
   ]
  },
  {
   "cell_type": "code",
   "execution_count": 8,
   "metadata": {},
   "outputs": [
    {
     "name": "stderr",
     "output_type": "stream",
     "text": [
      "/Users/pablo_1/opt/miniconda3/envs/conformal/lib/python3.10/site-packages/pytorch_lightning/trainer/connectors/data_connector.py:224: PossibleUserWarning: The dataloader, predict_dataloader 0, does not have many workers which may be a bottleneck. Consider increasing the value of the `num_workers` argument` (try 4 which is the number of cpus on this machine) in the `DataLoader` init to improve performance.\n",
      "  rank_zero_warn(\n"
     ]
    },
    {
     "data": {
      "application/vnd.jupyter.widget-view+json": {
       "model_id": "eeb1bae902c5456ea6ac103dad6a50ed",
       "version_major": 2,
       "version_minor": 0
      },
      "text/plain": [
       "Predicting: 1000it [00:00, ?it/s]"
      ]
     },
     "metadata": {},
     "output_type": "display_data"
    },
    {
     "data": {
      "text/plain": [
       "[tensor([[1.0000e+00, 0.0000e+00, 8.4404e-35, 2.9256e-37, 0.0000e+00, 0.0000e+00,\n",
       "          0.0000e+00, 4.1446e-27, 3.3345e-37, 4.7213e-33, 8.1898e-11, 7.5162e-39,\n",
       "          1.5378e-22, 7.1443e-37, 0.0000e+00, 0.0000e+00, 0.0000e+00, 0.0000e+00,\n",
       "          0.0000e+00, 2.5335e-36]]),\n",
       " tensor([[1.0000e+00, 0.0000e+00, 0.0000e+00, 0.0000e+00, 0.0000e+00, 0.0000e+00,\n",
       "          0.0000e+00, 1.1078e-31, 0.0000e+00, 1.7301e-38, 1.3257e-12, 0.0000e+00,\n",
       "          3.4472e-26, 0.0000e+00, 0.0000e+00, 0.0000e+00, 0.0000e+00, 0.0000e+00,\n",
       "          0.0000e+00, 0.0000e+00]]),\n",
       " tensor([[1.0000e+00, 1.0385e-29, 4.3405e-20, 1.6094e-21, 4.5177e-26, 1.0795e-26,\n",
       "          3.0134e-27, 2.1127e-15, 1.8129e-21, 3.6258e-19, 3.0372e-06, 1.9079e-22,\n",
       "          4.1052e-13, 3.3394e-21, 2.9149e-26, 2.2849e-27, 1.5641e-26, 5.3213e-28,\n",
       "          3.8934e-27, 1.7968e-20]]),\n",
       " tensor([[3.4221e-06, 2.7941e-13, 7.3754e-12, 3.8613e-12, 1.4642e-11, 8.0692e-12,\n",
       "          1.1468e-11, 6.6857e-08, 1.8256e-08, 1.4364e-06, 5.4604e-03, 2.8367e-09,\n",
       "          6.2092e-09, 2.9141e-08, 5.8144e-13, 5.7717e-13, 1.3771e-12, 9.6885e-13,\n",
       "          5.1026e-13, 9.9453e-01]]),\n",
       " tensor([[1.0000e+00, 0.0000e+00, 0.0000e+00, 0.0000e+00, 0.0000e+00, 0.0000e+00,\n",
       "          0.0000e+00, 0.0000e+00, 0.0000e+00, 0.0000e+00, 7.2625e-17, 0.0000e+00,\n",
       "          4.3175e-35, 0.0000e+00, 0.0000e+00, 0.0000e+00, 0.0000e+00, 0.0000e+00,\n",
       "          0.0000e+00, 0.0000e+00]]),\n",
       " tensor([[9.9585e-01, 1.5425e-14, 5.5272e-10, 1.0384e-10, 7.5200e-13, 3.5248e-13,\n",
       "          1.7662e-13, 2.3471e-07, 1.1766e-10, 1.2554e-09, 4.1494e-03, 3.5758e-11,\n",
       "          1.2597e-06, 1.9465e-10, 6.2931e-13, 1.9386e-13, 4.1502e-13, 1.0197e-13,\n",
       "          2.6641e-13, 1.3695e-09]]),\n",
       " tensor([[1.0000e+00, 0.0000e+00, 0.0000e+00, 0.0000e+00, 0.0000e+00, 0.0000e+00,\n",
       "          0.0000e+00, 8.3245e-38, 0.0000e+00, 0.0000e+00, 5.5196e-15, 0.0000e+00,\n",
       "          3.5860e-31, 0.0000e+00, 0.0000e+00, 0.0000e+00, 0.0000e+00, 0.0000e+00,\n",
       "          0.0000e+00, 0.0000e+00]]),\n",
       " tensor([[2.5721e-03, 7.2296e-07, 4.6345e-06, 2.8623e-06, 4.0364e-06, 2.8912e-06,\n",
       "          3.1922e-06, 8.1859e-04, 1.2726e-04, 7.9350e-04, 1.1352e-01, 4.8097e-05,\n",
       "          1.4944e-04, 1.9429e-04, 1.1175e-06, 9.6971e-07, 1.4190e-06, 1.3580e-06,\n",
       "          1.1189e-06, 8.8176e-01]]),\n",
       " tensor([[1.0000e+00, 0.0000e+00, 0.0000e+00, 0.0000e+00, 0.0000e+00, 0.0000e+00,\n",
       "          0.0000e+00, 3.1484e-39, 0.0000e+00, 0.0000e+00, 1.5348e-15, 0.0000e+00,\n",
       "          2.5914e-32, 0.0000e+00, 0.0000e+00, 0.0000e+00, 0.0000e+00, 0.0000e+00,\n",
       "          0.0000e+00, 0.0000e+00]]),\n",
       " tensor([[1.0000e+00, 0.0000e+00, 0.0000e+00, 0.0000e+00, 0.0000e+00, 0.0000e+00,\n",
       "          0.0000e+00, 0.0000e+00, 0.0000e+00, 0.0000e+00, 2.9629e-20, 0.0000e+00,\n",
       "          0.0000e+00, 0.0000e+00, 0.0000e+00, 0.0000e+00, 0.0000e+00, 0.0000e+00,\n",
       "          0.0000e+00, 0.0000e+00]])]"
      ]
     },
     "execution_count": 8,
     "metadata": {},
     "output_type": "execute_result"
    }
   ],
   "source": [
    "loader = DataLoader(torch.Tensor(np.asarray(x_list)))\n",
    "predictions = trainer.predict(model,loader)\n",
    "predictions[:10]"
   ]
  },
  {
   "cell_type": "code",
   "execution_count": 9,
   "metadata": {},
   "outputs": [
    {
     "data": {
      "text/plain": [
       "[array([0., 0., 0., 0., 0., 0., 0., 0., 0., 0., 1., 0., 0., 0., 0., 0., 0.,\n",
       "        0., 0., 0.]),\n",
       " array([1., 0., 0., 0., 0., 0., 0., 0., 0., 0., 0., 0., 0., 0., 0., 0., 0.,\n",
       "        0., 0., 0.]),\n",
       " array([0., 0., 0., 0., 0., 0., 0., 0., 0., 0., 0., 0., 0., 1., 0., 0., 0.,\n",
       "        0., 0., 0.]),\n",
       " array([0., 0., 0., 0., 0., 0., 0., 0., 0., 0., 0., 0., 0., 0., 0., 0., 0.,\n",
       "        0., 0., 1.]),\n",
       " array([1., 0., 0., 0., 0., 0., 0., 0., 0., 0., 0., 0., 0., 0., 0., 0., 0.,\n",
       "        0., 0., 0.]),\n",
       " array([0., 0., 0., 0., 0., 0., 0., 1., 0., 0., 0., 0., 0., 0., 0., 0., 0.,\n",
       "        0., 0., 0.]),\n",
       " array([0., 0., 0., 1., 0., 0., 0., 0., 0., 0., 0., 0., 0., 0., 0., 0., 0.,\n",
       "        0., 0., 0.]),\n",
       " array([0., 0., 0., 0., 0., 0., 0., 0., 0., 0., 0., 0., 0., 0., 0., 0., 0.,\n",
       "        0., 0., 1.]),\n",
       " array([1., 0., 0., 0., 0., 0., 0., 0., 0., 0., 0., 0., 0., 0., 0., 0., 0.,\n",
       "        0., 0., 0.]),\n",
       " array([0., 0., 1., 0., 0., 0., 0., 0., 0., 0., 0., 0., 0., 0., 0., 0., 0.,\n",
       "        0., 0., 0.])]"
      ]
     },
     "execution_count": 9,
     "metadata": {},
     "output_type": "execute_result"
    }
   ],
   "source": [
    "y_list[:10]"
   ]
  },
  {
   "cell_type": "code",
   "execution_count": 10,
   "metadata": {},
   "outputs": [
    {
     "name": "stderr",
     "output_type": "stream",
     "text": [
      "/var/folders/yw/g52bzl910kz1t3sdk0h_ydn80000gp/T/ipykernel_9114/3378937673.py:2: UserWarning: Creating a tensor from a list of numpy.ndarrays is extremely slow. Please consider converting the list to a single numpy.ndarray with numpy.array() before converting to a tensor. (Triggered internally at /Users/runner/work/pytorch/pytorch/pytorch/torch/csrc/utils/tensor_new.cpp:233.)\n",
      "  loader = DataLoader(torch.Tensor(x_list))\n"
     ]
    },
    {
     "data": {
      "application/vnd.jupyter.widget-view+json": {
       "model_id": "608dcdba716c4dba9908c1c0a1f79634",
       "version_major": 2,
       "version_minor": 0
      },
      "text/plain": [
       "Predicting: 1000it [00:00, ?it/s]"
      ]
     },
     "metadata": {},
     "output_type": "display_data"
    },
    {
     "data": {
      "text/plain": [
       "tensor([[1., 0., 0.,  ..., 0., 0., 0.],\n",
       "        [1., 0., 0.,  ..., 0., 0., 0.],\n",
       "        [1., 0., 0.,  ..., 0., 0., 0.],\n",
       "        ...,\n",
       "        [1., 0., 0.,  ..., 0., 0., 0.],\n",
       "        [1., 0., 0.,  ..., 0., 0., 0.],\n",
       "        [1., 0., 0.,  ..., 0., 0., 0.]])"
      ]
     },
     "execution_count": 10,
     "metadata": {},
     "output_type": "execute_result"
    }
   ],
   "source": [
    "a = C(0.5, x_list)\n",
    "a"
   ]
  },
  {
   "cell_type": "markdown",
   "metadata": {},
   "source": []
  },
  {
   "cell_type": "code",
   "execution_count": 11,
   "metadata": {},
   "outputs": [
    {
     "data": {
      "text/plain": [
       "tensor([1., 0., 0., 0., 0., 0., 0., 0., 0., 0., 0., 0., 0., 0., 0., 0., 0., 0.,\n",
       "        0., 0.])"
      ]
     },
     "execution_count": 11,
     "metadata": {},
     "output_type": "execute_result"
    }
   ],
   "source": [
    "a[0]"
   ]
  },
  {
   "cell_type": "code",
   "execution_count": null,
   "metadata": {},
   "outputs": [],
   "source": []
  }
 ],
 "metadata": {
  "kernelspec": {
   "display_name": "Python 3.10.8 ('conformal')",
   "language": "python",
   "name": "python3"
  },
  "language_info": {
   "codemirror_mode": {
    "name": "ipython",
    "version": 3
   },
   "file_extension": ".py",
   "mimetype": "text/x-python",
   "name": "python",
   "nbconvert_exporter": "python",
   "pygments_lexer": "ipython3",
   "version": "3.10.8"
  },
  "orig_nbformat": 4,
  "vscode": {
   "interpreter": {
    "hash": "e4bb16644b7805f2b6da05dca5aae8dc9248070802afd077ed9812795780bba0"
   }
  }
 },
 "nbformat": 4,
 "nbformat_minor": 2
}
